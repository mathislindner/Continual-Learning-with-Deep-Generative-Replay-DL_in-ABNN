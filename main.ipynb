{
 "cells": [
  {
   "cell_type": "code",
   "execution_count": 6,
   "metadata": {},
   "outputs": [],
   "source": [
    "# implement https://arxiv.org/pdf/1705.08690.pdf on avalanche framework on permuted MNIST\n",
    "# https://aahaanmaini.medium.com/mimicking-human-continual-learning-in-a-neural-network-c15e1ae11d70\n",
    "#continual learning"
   ]
  },
  {
   "cell_type": "markdown",
   "metadata": {},
   "source": [
    "## create GAN"
   ]
  },
  {
   "cell_type": "code",
   "execution_count": 1,
   "metadata": {},
   "outputs": [
    {
     "name": "stderr",
     "output_type": "stream",
     "text": [
      "c:\\Users\\mathi\\Anaconda3\\envs\\DL2\\lib\\site-packages\\tqdm\\auto.py:22: TqdmWarning: IProgress not found. Please update jupyter and ipywidgets. See https://ipywidgets.readthedocs.io/en/stable/user_install.html\n",
      "  from .autonotebook import tqdm as notebook_tqdm\n",
      "c:\\Users\\mathi\\Anaconda3\\envs\\DL2\\lib\\site-packages\\torchvision\\io\\image.py:13: UserWarning: Failed to load image Python extension: \n",
      "  warn(f\"Failed to load image Python extension: {e}\")\n"
     ]
    }
   ],
   "source": [
    "from helper_func import generate_images, train_GAN"
   ]
  },
  {
   "cell_type": "code",
   "execution_count": 2,
   "metadata": {},
   "outputs": [
    {
     "name": "stderr",
     "output_type": "stream",
     "text": [
      "c:\\Users\\mathi\\Anaconda3\\envs\\DL2\\lib\\site-packages\\ipykernel_launcher.py:55: UserWarning: volatile was removed and now has no effect. Use `with torch.no_grad():` instead.\n"
     ]
    }
   ],
   "source": [
    "#https://github.com/znxlwm/pytorch-MNIST-CelebA-GAN-DCGAN/blob/master/pytorch_MNIST_GAN.py\n",
    "import matplotlib.pyplot as plt\n",
    "from torch import nn\n",
    "import itertools\n",
    "import pickle\n",
    "#import imageio\n",
    "import torch\n",
    "import torch.nn as nn\n",
    "import torch.nn.functional as F\n",
    "import torch.optim as optim\n",
    "from torchvision import datasets, transforms\n",
    "from torch.autograd import Variable\n",
    "\n",
    "# G(z)\n",
    "class generator(nn.Module):\n",
    "    # initializers\n",
    "    def __init__(self, input_size=32, n_class = 10):\n",
    "        super(generator, self).__init__()\n",
    "        self.fc1 = nn.Linear(input_size, 256)\n",
    "        self.fc2 = nn.Linear(self.fc1.out_features, 512)\n",
    "        self.fc3 = nn.Linear(self.fc2.out_features, 1024)\n",
    "        self.fc4 = nn.Linear(self.fc3.out_features, n_class)\n",
    "\n",
    "    # forward method\n",
    "    def forward(self, input):\n",
    "        x = F.leaky_relu(self.fc1(input), 0.2)\n",
    "        x = F.leaky_relu(self.fc2(x), 0.2)\n",
    "        x = F.leaky_relu(self.fc3(x), 0.2)\n",
    "        x = F.tanh(self.fc4(x))\n",
    "\n",
    "        return x\n",
    "\n",
    "class discriminator(nn.Module):\n",
    "    # initializers\n",
    "    def __init__(self, input_size=32, n_class=10):\n",
    "        super(discriminator, self).__init__()\n",
    "        self.fc1 = nn.Linear(input_size, 1024)\n",
    "        self.fc2 = nn.Linear(self.fc1.out_features, 512)\n",
    "        self.fc3 = nn.Linear(self.fc2.out_features, 256)\n",
    "        self.fc4 = nn.Linear(self.fc3.out_features, n_class)\n",
    "\n",
    "    # forward method\n",
    "    def forward(self, input):\n",
    "        x = F.leaky_relu(self.fc1(input), 0.2)\n",
    "        x = F.dropout(x, 0.3)\n",
    "        x = F.leaky_relu(self.fc2(x), 0.2)\n",
    "        x = F.dropout(x, 0.3)\n",
    "        x = F.leaky_relu(self.fc3(x), 0.2)\n",
    "        x = F.dropout(x, 0.3)\n",
    "        x = F.sigmoid(self.fc4(x))\n",
    "\n",
    "        return x\n",
    "\n",
    "fixed_z_ = torch.randn((5 * 5, 100))    # fixed noise\n",
    "fixed_z_ = Variable(fixed_z_, volatile=True)\n",
    "\n",
    "# training parameters\n",
    "batch_size = 128\n",
    "lr = 0.0002\n",
    "\n",
    "# data_loader\n",
    "transform = transforms.Compose([\n",
    "        transforms.ToTensor(),\n",
    "        transforms.Normalize(mean=(0.5, 0.5, 0.5), std=(0.5, 0.5, 0.5))\n",
    "])\n",
    "# network\n",
    "G = generator(input_size=100, n_class=28*28)\n",
    "D = discriminator(input_size=28*28, n_class=1)\n",
    "\n",
    "# Binary Cross Entropy loss\n",
    "BCE_loss = nn.BCELoss()\n",
    "\n",
    "# Adam optimizer\n",
    "G_optimizer = optim.Adam(G.parameters(), lr=lr)\n",
    "D_optimizer = optim.Adam(D.parameters(), lr=lr)\n"
   ]
  },
  {
   "cell_type": "markdown",
   "metadata": {},
   "source": [
    "## naive and scholar"
   ]
  },
  {
   "cell_type": "code",
   "execution_count": 3,
   "metadata": {},
   "outputs": [],
   "source": [
    "from torch.optim import SGD\n",
    "from torch.nn import CrossEntropyLoss\n",
    "from avalanche.training.supervised import Naive\n",
    "from avalanche.training.plugins import EvaluationPlugin\n",
    "from avalanche.evaluation.metrics import accuracy_metrics\n",
    "from avalanche.models import SimpleMLP\n",
    "\n",
    "#Naive approach\n",
    "model_naive = SimpleMLP(num_classes=10, hidden_size = 400, hidden_layers=2)\n",
    "\n",
    "#Continual Learning approach\n",
    "model_cl_scholar = SimpleMLP(num_classes=10, hidden_size = 400, hidden_layers=2)\n",
    "\n",
    "optimizer = SGD(model_naive.parameters(), lr=0.001, momentum=0.9)\n",
    "criterion = CrossEntropyLoss()\n",
    "\n",
    "########################################################################################\n",
    "# Continual learning strategy\n",
    "cl_strategy_naive = Naive(\n",
    "    model_naive, optimizer, criterion, train_mb_size=32, train_epochs=2, \n",
    "    eval_mb_size=32)\n",
    "\n",
    "# model_cl_scholar strategy\n",
    "cl_strategy_scholar = Naive(\n",
    "    model_cl_scholar, optimizer, criterion, train_mb_size=32, train_epochs=2,\n",
    "    eval_mb_size=32)"
   ]
  },
  {
   "cell_type": "markdown",
   "metadata": {},
   "source": [
    "## Dataset"
   ]
  },
  {
   "cell_type": "code",
   "execution_count": 4,
   "metadata": {},
   "outputs": [],
   "source": [
    "from avalanche.benchmarks.classic import SplitMNIST\n",
    "from avalanche.models import SimpleMLP\n",
    "\n",
    "transform = transforms.Compose([\n",
    "        transforms.ToTensor(),\n",
    "        transforms.Normalize(mean=(0.5, 0.5, 0.5), std=(0.5, 0.5, 0.5))\n",
    "])\n",
    "# create transform to grayscale\n",
    "transform = transforms.Compose([\n",
    "        transforms.Grayscale(num_output_channels=1),\n",
    "        transforms.ToTensor(),\n",
    "])\n",
    "# CL Benchmark Creation\n",
    "BM = SplitMNIST(n_experiences=5, seed=12345, train_transform=transform, eval_transform=transform)\n"
   ]
  },
  {
   "cell_type": "markdown",
   "metadata": {},
   "source": [
    "## Train"
   ]
  },
  {
   "cell_type": "markdown",
   "metadata": {},
   "source": [
    "### naive"
   ]
  },
  {
   "cell_type": "code",
   "execution_count": 5,
   "metadata": {},
   "outputs": [
    {
     "name": "stdout",
     "output_type": "stream",
     "text": [
      "training experience 0\n",
      "training classes [0, 7]\n",
      "-- >> Start of training phase << --\n",
      "100%|██████████| 381/381 [00:08<00:00, 46.99it/s]\n",
      "Epoch 0 ended.\n",
      "\tLoss_Epoch/train_phase/train_stream/Task000 = 0.5255\n",
      "\tTop1_Acc_Epoch/train_phase/train_stream/Task000 = 0.8956\n",
      "100%|██████████| 381/381 [00:09<00:00, 40.19it/s]\n",
      "Epoch 1 ended.\n",
      "\tLoss_Epoch/train_phase/train_stream/Task000 = 0.0484\n",
      "\tTop1_Acc_Epoch/train_phase/train_stream/Task000 = 0.9871\n",
      "-- >> End of training phase << --\n",
      "-- >> Start of eval phase << --\n",
      "-- Starting eval on experience 0 (Task 0) from test stream --\n",
      "100%|██████████| 63/63 [00:01<00:00, 61.09it/s]\n",
      "> Eval on experience 0 (Task 0) from test stream ended.\n",
      "\tLoss_Exp/eval_phase/test_stream/Task000/Exp000 = 0.0220\n",
      "\tTop1_Acc_Exp/eval_phase/test_stream/Task000/Exp000 = 0.9945\n",
      "-- Starting eval on experience 1 (Task 0) from test stream --\n",
      "100%|██████████| 66/66 [00:01<00:00, 54.87it/s]\n",
      "> Eval on experience 1 (Task 0) from test stream ended.\n",
      "\tLoss_Exp/eval_phase/test_stream/Task000/Exp001 = 6.9029\n",
      "\tTop1_Acc_Exp/eval_phase/test_stream/Task000/Exp001 = 0.0000\n",
      "-- Starting eval on experience 2 (Task 0) from test stream --\n",
      "100%|██████████| 63/63 [00:01<00:00, 43.92it/s]\n",
      "> Eval on experience 2 (Task 0) from test stream ended.\n",
      "\tLoss_Exp/eval_phase/test_stream/Task000/Exp002 = 8.5770\n",
      "\tTop1_Acc_Exp/eval_phase/test_stream/Task000/Exp002 = 0.0000\n",
      "-- Starting eval on experience 3 (Task 0) from test stream --\n",
      "100%|██████████| 62/62 [00:02<00:00, 30.68it/s]\n",
      "> Eval on experience 3 (Task 0) from test stream ended.\n",
      "\tLoss_Exp/eval_phase/test_stream/Task000/Exp003 = 9.3521\n",
      "\tTop1_Acc_Exp/eval_phase/test_stream/Task000/Exp003 = 0.0000\n",
      "-- Starting eval on experience 4 (Task 0) from test stream --\n",
      "100%|██████████| 60/60 [00:01<00:00, 44.76it/s]\n",
      "> Eval on experience 4 (Task 0) from test stream ended.\n",
      "\tLoss_Exp/eval_phase/test_stream/Task000/Exp004 = 8.7100\n",
      "\tTop1_Acc_Exp/eval_phase/test_stream/Task000/Exp004 = 0.0000\n",
      "-- >> End of eval phase << --\n",
      "\tLoss_Stream/eval_phase/test_stream/Task000 = 6.6878\n",
      "\tTop1_Acc_Stream/eval_phase/test_stream/Task000 = 0.1997\n",
      "training experience 1\n",
      "training classes [1, 6]\n",
      "-- >> Start of training phase << --\n",
      "100%|██████████| 396/396 [00:08<00:00, 46.75it/s]\n",
      "Epoch 0 ended.\n",
      "\tLoss_Epoch/train_phase/train_stream/Task000 = 0.6021\n",
      "\tTop1_Acc_Epoch/train_phase/train_stream/Task000 = 0.8264\n",
      "100%|██████████| 396/396 [00:20<00:00, 19.52it/s]\n",
      "Epoch 1 ended.\n",
      "\tLoss_Epoch/train_phase/train_stream/Task000 = 0.0422\n",
      "\tTop1_Acc_Epoch/train_phase/train_stream/Task000 = 0.9896\n",
      "-- >> End of training phase << --\n",
      "-- >> Start of eval phase << --\n",
      "-- Starting eval on experience 0 (Task 0) from test stream --\n",
      "100%|██████████| 63/63 [00:01<00:00, 34.29it/s]\n",
      "> Eval on experience 0 (Task 0) from test stream ended.\n",
      "\tLoss_Exp/eval_phase/test_stream/Task000/Exp000 = 8.6416\n",
      "\tTop1_Acc_Exp/eval_phase/test_stream/Task000/Exp000 = 0.0000\n",
      "-- Starting eval on experience 1 (Task 0) from test stream --\n",
      "100%|██████████| 66/66 [00:01<00:00, 35.29it/s]\n",
      "> Eval on experience 1 (Task 0) from test stream ended.\n",
      "\tLoss_Exp/eval_phase/test_stream/Task000/Exp001 = 0.0194\n",
      "\tTop1_Acc_Exp/eval_phase/test_stream/Task000/Exp001 = 0.9943\n",
      "-- Starting eval on experience 2 (Task 0) from test stream --\n",
      "100%|██████████| 63/63 [00:02<00:00, 28.11it/s]\n",
      "> Eval on experience 2 (Task 0) from test stream ended.\n",
      "\tLoss_Exp/eval_phase/test_stream/Task000/Exp002 = 11.5782\n",
      "\tTop1_Acc_Exp/eval_phase/test_stream/Task000/Exp002 = 0.0000\n",
      "-- Starting eval on experience 3 (Task 0) from test stream --\n",
      "100%|██████████| 62/62 [00:01<00:00, 38.22it/s]\n",
      "> Eval on experience 3 (Task 0) from test stream ended.\n",
      "\tLoss_Exp/eval_phase/test_stream/Task000/Exp003 = 11.4751\n",
      "\tTop1_Acc_Exp/eval_phase/test_stream/Task000/Exp003 = 0.0000\n",
      "-- Starting eval on experience 4 (Task 0) from test stream --\n",
      "100%|██████████| 60/60 [00:01<00:00, 39.02it/s]\n",
      "> Eval on experience 4 (Task 0) from test stream ended.\n",
      "\tLoss_Exp/eval_phase/test_stream/Task000/Exp004 = 11.3214\n",
      "\tTop1_Acc_Exp/eval_phase/test_stream/Task000/Exp004 = 0.0000\n",
      "-- >> End of eval phase << --\n",
      "\tLoss_Stream/eval_phase/test_stream/Task000 = 8.5000\n",
      "\tTop1_Acc_Stream/eval_phase/test_stream/Task000 = 0.2081\n",
      "training experience 2\n",
      "training classes [2, 4]\n",
      "-- >> Start of training phase << --\n",
      "100%|██████████| 369/369 [00:12<00:00, 29.92it/s]\n",
      "Epoch 0 ended.\n",
      "\tLoss_Epoch/train_phase/train_stream/Task000 = 0.7814\n",
      "\tTop1_Acc_Epoch/train_phase/train_stream/Task000 = 0.8133\n",
      "100%|██████████| 369/369 [00:08<00:00, 45.26it/s]\n",
      "Epoch 1 ended.\n",
      "\tLoss_Epoch/train_phase/train_stream/Task000 = 0.0992\n",
      "\tTop1_Acc_Epoch/train_phase/train_stream/Task000 = 0.9662\n",
      "-- >> End of training phase << --\n",
      "-- >> Start of eval phase << --\n",
      "-- Starting eval on experience 0 (Task 0) from test stream --\n",
      "100%|██████████| 63/63 [00:01<00:00, 61.27it/s]\n",
      "> Eval on experience 0 (Task 0) from test stream ended.\n",
      "\tLoss_Exp/eval_phase/test_stream/Task000/Exp000 = 8.2196\n",
      "\tTop1_Acc_Exp/eval_phase/test_stream/Task000/Exp000 = 0.0000\n",
      "-- Starting eval on experience 1 (Task 0) from test stream --\n",
      "100%|██████████| 66/66 [00:01<00:00, 57.23it/s]\n",
      "> Eval on experience 1 (Task 0) from test stream ended.\n",
      "\tLoss_Exp/eval_phase/test_stream/Task000/Exp001 = 6.1999\n",
      "\tTop1_Acc_Exp/eval_phase/test_stream/Task000/Exp001 = 0.0000\n",
      "-- Starting eval on experience 2 (Task 0) from test stream --\n",
      "100%|██████████| 63/63 [00:01<00:00, 54.38it/s]\n",
      "> Eval on experience 2 (Task 0) from test stream ended.\n",
      "\tLoss_Exp/eval_phase/test_stream/Task000/Exp002 = 0.0646\n",
      "\tTop1_Acc_Exp/eval_phase/test_stream/Task000/Exp002 = 0.9747\n",
      "-- Starting eval on experience 3 (Task 0) from test stream --\n",
      "100%|██████████| 62/62 [00:01<00:00, 49.95it/s]\n",
      "> Eval on experience 3 (Task 0) from test stream ended.\n",
      "\tLoss_Exp/eval_phase/test_stream/Task000/Exp003 = 10.5565\n",
      "\tTop1_Acc_Exp/eval_phase/test_stream/Task000/Exp003 = 0.0000\n",
      "-- Starting eval on experience 4 (Task 0) from test stream --\n",
      "100%|██████████| 60/60 [00:01<00:00, 41.22it/s]\n",
      "> Eval on experience 4 (Task 0) from test stream ended.\n",
      "\tLoss_Exp/eval_phase/test_stream/Task000/Exp004 = 10.1393\n",
      "\tTop1_Acc_Exp/eval_phase/test_stream/Task000/Exp004 = 0.0000\n",
      "-- >> End of eval phase << --\n",
      "\tLoss_Stream/eval_phase/test_stream/Task000 = 6.9830\n",
      "\tTop1_Acc_Stream/eval_phase/test_stream/Task000 = 0.1963\n",
      "training experience 3\n",
      "training classes [8, 9]\n",
      "-- >> Start of training phase << --\n",
      "100%|██████████| 369/369 [00:13<00:00, 27.73it/s]\n",
      "Epoch 0 ended.\n",
      "\tLoss_Epoch/train_phase/train_stream/Task000 = 0.8324\n",
      "\tTop1_Acc_Epoch/train_phase/train_stream/Task000 = 0.7877\n",
      "100%|██████████| 369/369 [00:07<00:00, 49.15it/s]\n",
      "Epoch 1 ended.\n",
      "\tLoss_Epoch/train_phase/train_stream/Task000 = 0.1345\n",
      "\tTop1_Acc_Epoch/train_phase/train_stream/Task000 = 0.9569\n",
      "-- >> End of training phase << --\n",
      "-- >> Start of eval phase << --\n",
      "-- Starting eval on experience 0 (Task 0) from test stream --\n",
      "100%|██████████| 63/63 [00:01<00:00, 61.93it/s]\n",
      "> Eval on experience 0 (Task 0) from test stream ended.\n",
      "\tLoss_Exp/eval_phase/test_stream/Task000/Exp000 = 8.4864\n",
      "\tTop1_Acc_Exp/eval_phase/test_stream/Task000/Exp000 = 0.0000\n",
      "-- Starting eval on experience 1 (Task 0) from test stream --\n",
      "100%|██████████| 66/66 [00:01<00:00, 60.05it/s]\n",
      "> Eval on experience 1 (Task 0) from test stream ended.\n",
      "\tLoss_Exp/eval_phase/test_stream/Task000/Exp001 = 7.4538\n",
      "\tTop1_Acc_Exp/eval_phase/test_stream/Task000/Exp001 = 0.0000\n",
      "-- Starting eval on experience 2 (Task 0) from test stream --\n",
      "100%|██████████| 63/63 [00:03<00:00, 18.46it/s]\n",
      "> Eval on experience 2 (Task 0) from test stream ended.\n",
      "\tLoss_Exp/eval_phase/test_stream/Task000/Exp002 = 7.4658\n",
      "\tTop1_Acc_Exp/eval_phase/test_stream/Task000/Exp002 = 0.0000\n",
      "-- Starting eval on experience 3 (Task 0) from test stream --\n",
      "100%|██████████| 62/62 [00:02<00:00, 26.77it/s]\n",
      "> Eval on experience 3 (Task 0) from test stream ended.\n",
      "\tLoss_Exp/eval_phase/test_stream/Task000/Exp003 = 0.1041\n",
      "\tTop1_Acc_Exp/eval_phase/test_stream/Task000/Exp003 = 0.9667\n",
      "-- Starting eval on experience 4 (Task 0) from test stream --\n",
      "100%|██████████| 60/60 [00:01<00:00, 40.96it/s]\n",
      "> Eval on experience 4 (Task 0) from test stream ended.\n",
      "\tLoss_Exp/eval_phase/test_stream/Task000/Exp004 = 9.7951\n",
      "\tTop1_Acc_Exp/eval_phase/test_stream/Task000/Exp004 = 0.0000\n",
      "-- >> End of eval phase << --\n",
      "\tLoss_Stream/eval_phase/test_stream/Task000 = 6.6514\n",
      "\tTop1_Acc_Stream/eval_phase/test_stream/Task000 = 0.1917\n",
      "training experience 4\n",
      "training classes [3, 5]\n",
      "-- >> Start of training phase << --\n",
      "100%|██████████| 361/361 [00:07<00:00, 48.59it/s]\n",
      "Epoch 0 ended.\n",
      "\tLoss_Epoch/train_phase/train_stream/Task000 = 1.1259\n",
      "\tTop1_Acc_Epoch/train_phase/train_stream/Task000 = 0.5883\n",
      "100%|██████████| 361/361 [00:07<00:00, 48.35it/s]\n",
      "Epoch 1 ended.\n",
      "\tLoss_Epoch/train_phase/train_stream/Task000 = 0.2893\n",
      "\tTop1_Acc_Epoch/train_phase/train_stream/Task000 = 0.8913\n",
      "-- >> End of training phase << --\n",
      "-- >> Start of eval phase << --\n",
      "-- Starting eval on experience 0 (Task 0) from test stream --\n",
      "100%|██████████| 63/63 [00:00<00:00, 65.31it/s]\n",
      "> Eval on experience 0 (Task 0) from test stream ended.\n",
      "\tLoss_Exp/eval_phase/test_stream/Task000/Exp000 = 8.9801\n",
      "\tTop1_Acc_Exp/eval_phase/test_stream/Task000/Exp000 = 0.0000\n",
      "-- Starting eval on experience 1 (Task 0) from test stream --\n",
      "100%|██████████| 66/66 [00:01<00:00, 65.06it/s]\n",
      "> Eval on experience 1 (Task 0) from test stream ended.\n",
      "\tLoss_Exp/eval_phase/test_stream/Task000/Exp001 = 8.4360\n",
      "\tTop1_Acc_Exp/eval_phase/test_stream/Task000/Exp001 = 0.0000\n",
      "-- Starting eval on experience 2 (Task 0) from test stream --\n",
      "100%|██████████| 63/63 [00:00<00:00, 63.35it/s]\n",
      "> Eval on experience 2 (Task 0) from test stream ended.\n",
      "\tLoss_Exp/eval_phase/test_stream/Task000/Exp002 = 8.7866\n",
      "\tTop1_Acc_Exp/eval_phase/test_stream/Task000/Exp002 = 0.0000\n",
      "-- Starting eval on experience 3 (Task 0) from test stream --\n",
      "100%|██████████| 62/62 [00:00<00:00, 65.14it/s]\n",
      "> Eval on experience 3 (Task 0) from test stream ended.\n",
      "\tLoss_Exp/eval_phase/test_stream/Task000/Exp003 = 7.2962\n",
      "\tTop1_Acc_Exp/eval_phase/test_stream/Task000/Exp003 = 0.0000\n",
      "-- Starting eval on experience 4 (Task 0) from test stream --\n",
      "100%|██████████| 60/60 [00:00<00:00, 63.21it/s]\n",
      "> Eval on experience 4 (Task 0) from test stream ended.\n",
      "\tLoss_Exp/eval_phase/test_stream/Task000/Exp004 = 0.1543\n",
      "\tTop1_Acc_Exp/eval_phase/test_stream/Task000/Exp004 = 0.9401\n",
      "-- >> End of eval phase << --\n",
      "\tLoss_Stream/eval_phase/test_stream/Task000 = 6.8147\n",
      "\tTop1_Acc_Stream/eval_phase/test_stream/Task000 = 0.1788\n"
     ]
    }
   ],
   "source": [
    "from tqdm import tqdm\n",
    "import numpy as np\n",
    "naive_evaluations = []\n",
    "for experience in BM.train_stream:\n",
    "    print('training experience', experience.current_experience)\n",
    "    print('training classes', experience.classes_in_this_experience)\n",
    "    ############################################################################################################\n",
    "    # Naive training\n",
    "    ############################################################################################################\n",
    "    #train naive model\n",
    "    cl_strategy_naive.train(experience, verbose=0)\n",
    "    #test naive model on test stream\n",
    "    naive_evaluation = cl_strategy_naive.eval(BM.test_stream)\n",
    "    naive_evaluations.append(naive_evaluation)\n",
    "    \n",
    "np.save('evaluations/naive_evaluations.npy', naive_evaluations)\n"
   ]
  },
  {
   "cell_type": "markdown",
   "metadata": {},
   "source": [
    "### scholar with GAN"
   ]
  },
  {
   "cell_type": "code",
   "execution_count": 11,
   "metadata": {},
   "outputs": [
    {
     "name": "stdout",
     "output_type": "stream",
     "text": [
      "training experience 0\n",
      "training classes [0, 7]\n"
     ]
    },
    {
     "ename": "TypeError",
     "evalue": "train() missing 1 required positional argument: 'experiences'",
     "output_type": "error",
     "traceback": [
      "\u001b[1;31m---------------------------------------------------------------------------\u001b[0m",
      "\u001b[1;31mTypeError\u001b[0m                                 Traceback (most recent call last)",
      "\u001b[1;32m~\\AppData\\Local\\Temp\\ipykernel_6180\\3507936424.py\u001b[0m in \u001b[0;36m<module>\u001b[1;34m\u001b[0m\n\u001b[0;32m     43\u001b[0m     \u001b[0mprint\u001b[0m\u001b[1;33m(\u001b[0m\u001b[1;34m'training experience'\u001b[0m\u001b[1;33m,\u001b[0m \u001b[0mexperience\u001b[0m\u001b[1;33m.\u001b[0m\u001b[0mcurrent_experience\u001b[0m\u001b[1;33m)\u001b[0m\u001b[1;33m\u001b[0m\u001b[1;33m\u001b[0m\u001b[0m\n\u001b[0;32m     44\u001b[0m     \u001b[0mprint\u001b[0m\u001b[1;33m(\u001b[0m\u001b[1;34m'training classes'\u001b[0m\u001b[1;33m,\u001b[0m \u001b[0mexperience\u001b[0m\u001b[1;33m.\u001b[0m\u001b[0mclasses_in_this_experience\u001b[0m\u001b[1;33m)\u001b[0m\u001b[1;33m\u001b[0m\u001b[1;33m\u001b[0m\u001b[0m\n\u001b[1;32m---> 45\u001b[1;33m     \u001b[0mstrategy\u001b[0m\u001b[1;33m.\u001b[0m\u001b[0mtrain\u001b[0m\u001b[1;33m(\u001b[0m\u001b[0mexperience\u001b[0m\u001b[1;33m,\u001b[0m \u001b[0mverbose\u001b[0m\u001b[1;33m=\u001b[0m\u001b[1;36m0\u001b[0m\u001b[1;33m)\u001b[0m\u001b[1;33m\u001b[0m\u001b[1;33m\u001b[0m\u001b[0m\n\u001b[0m",
      "\u001b[1;32mc:\\Users\\mathi\\Anaconda3\\envs\\DL2\\lib\\site-packages\\avalanche\\training\\templates\\base_sgd.py\u001b[0m in \u001b[0;36mtrain\u001b[1;34m(self, experiences, eval_streams, **kwargs)\u001b[0m\n\u001b[0;32m    128\u001b[0m                                                     ExpSequence]]] = None,\n\u001b[0;32m    129\u001b[0m               **kwargs):\n\u001b[1;32m--> 130\u001b[1;33m         \u001b[0msuper\u001b[0m\u001b[1;33m(\u001b[0m\u001b[1;33m)\u001b[0m\u001b[1;33m.\u001b[0m\u001b[0mtrain\u001b[0m\u001b[1;33m(\u001b[0m\u001b[0mexperiences\u001b[0m\u001b[1;33m,\u001b[0m \u001b[0meval_streams\u001b[0m\u001b[1;33m,\u001b[0m \u001b[1;33m**\u001b[0m\u001b[0mkwargs\u001b[0m\u001b[1;33m)\u001b[0m\u001b[1;33m\u001b[0m\u001b[1;33m\u001b[0m\u001b[0m\n\u001b[0m\u001b[0;32m    131\u001b[0m         \u001b[1;32mreturn\u001b[0m \u001b[0mself\u001b[0m\u001b[1;33m.\u001b[0m\u001b[0mevaluator\u001b[0m\u001b[1;33m.\u001b[0m\u001b[0mget_last_metrics\u001b[0m\u001b[1;33m(\u001b[0m\u001b[1;33m)\u001b[0m\u001b[1;33m\u001b[0m\u001b[1;33m\u001b[0m\u001b[0m\n\u001b[0;32m    132\u001b[0m \u001b[1;33m\u001b[0m\u001b[0m\n",
      "\u001b[1;32mc:\\Users\\mathi\\Anaconda3\\envs\\DL2\\lib\\site-packages\\avalanche\\training\\templates\\base.py\u001b[0m in \u001b[0;36mtrain\u001b[1;34m(self, experiences, eval_streams, **kwargs)\u001b[0m\n\u001b[0;32m     91\u001b[0m         \u001b[0mself\u001b[0m\u001b[1;33m.\u001b[0m\u001b[0m_stop_training\u001b[0m \u001b[1;33m=\u001b[0m \u001b[1;32mFalse\u001b[0m\u001b[1;33m\u001b[0m\u001b[1;33m\u001b[0m\u001b[0m\n\u001b[0;32m     92\u001b[0m \u001b[1;33m\u001b[0m\u001b[0m\n\u001b[1;32m---> 93\u001b[1;33m         \u001b[0mself\u001b[0m\u001b[1;33m.\u001b[0m\u001b[0mmodel\u001b[0m\u001b[1;33m.\u001b[0m\u001b[0mtrain\u001b[0m\u001b[1;33m(\u001b[0m\u001b[1;33m)\u001b[0m\u001b[1;33m\u001b[0m\u001b[1;33m\u001b[0m\u001b[0m\n\u001b[0m\u001b[0;32m     94\u001b[0m         \u001b[0mself\u001b[0m\u001b[1;33m.\u001b[0m\u001b[0mmodel\u001b[0m\u001b[1;33m.\u001b[0m\u001b[0mto\u001b[0m\u001b[1;33m(\u001b[0m\u001b[0mself\u001b[0m\u001b[1;33m.\u001b[0m\u001b[0mdevice\u001b[0m\u001b[1;33m)\u001b[0m\u001b[1;33m\u001b[0m\u001b[1;33m\u001b[0m\u001b[0m\n\u001b[0;32m     95\u001b[0m \u001b[1;33m\u001b[0m\u001b[0m\n",
      "\u001b[1;31mTypeError\u001b[0m: train() missing 1 required positional argument: 'experiences'"
     ]
    }
   ],
   "source": [
    "from avalanche.benchmarks.utils import AvalancheConcatDataset\n",
    "from avalanche.benchmarks.utils import AvalancheDataset\n",
    "from avalanche.training.templates import SupervisedTemplate\n",
    "\n",
    "\n",
    "class Cumulative(SupervisedTemplate):\n",
    "    def __init__(self, *args, **kwargs):\n",
    "        super().__init__(*args, **kwargs)\n",
    "        self.dataset = None  # cumulative dataset\n",
    "\n",
    "    def train_dataset_adaptation(self, **kwargs):\n",
    "        super().train_dataset_adaptation(**kwargs)\n",
    "        curr_data = self.experience.dataset\n",
    "        if self.dataset is None:\n",
    "            self.dataset = curr_data\n",
    "        else:\n",
    "            G.eval()\n",
    "            D.eval()\n",
    "            generated_images = torch.zeros((len(experience), 28*28))\n",
    "            generated_labels = torch.zeros((len(experience)))\n",
    "            for i in range(len(experience.dataset)):\n",
    "                fixed_z_ = torch.randn((5 * 5, 100))    # fixed noise\n",
    "                test_images = G(fixed_z_)\n",
    "                test_images = test_images.view(test_images.size(0), 1, 28, 28)\n",
    "                test_images = test_images.data\n",
    "                generated_images[i] = test_images[0].view(28*28)\n",
    "                generated_labels[i] = experience.current_experience\n",
    "            generated_dataset = AvalancheDataset(generated_images, generated_labels)\n",
    "            self.dataset = AvalancheConcatDataset([self.dataset, generated_dataset])\n",
    "            #train new GAN\n",
    "            train_loader = torch.utils.data.DataLoader(self.dataset, batch_size=batch_size, shuffle=True)\n",
    "            G, D, D_losses, G_losses = train_GAN(G, D, train_loader, G_optimizer, D_optimizer, train_epoch = 2)\n",
    "            generate_images(G, 25)\n",
    "            \n",
    "        self.adapted_dataset = self.dataset.train()\n",
    "\n",
    "strategy = Cumulative(model=cl_strategy_scholar, optimizer=optimizer, criterion=criterion, train_mb_size=128)\n",
    "\n",
    "train_hist = {}\n",
    "train_hist['D_losses'] = []\n",
    "train_hist['G_losses'] = []\n",
    "for experience in BM.train_stream:\n",
    "    print('training experience', experience.current_experience)\n",
    "    print('training classes', experience.classes_in_this_experience)\n",
    "    strategy.train(experience, verbose=0)"
   ]
  },
  {
   "cell_type": "code",
   "execution_count": 7,
   "metadata": {},
   "outputs": [
    {
     "name": "stdout",
     "output_type": "stream",
     "text": [
      "training experience 0\n",
      "training classes [0, 7]\n"
     ]
    },
    {
     "name": "stderr",
     "output_type": "stream",
     "text": [
      "100%|██████████| 96/96 [00:15<00:00,  6.26it/s]\n"
     ]
    },
    {
     "name": "stdout",
     "output_type": "stream",
     "text": [
      "[1/2]:GAN loss_d: 1.190, loss_g: 0.853\n"
     ]
    },
    {
     "name": "stderr",
     "output_type": "stream",
     "text": [
      "100%|██████████| 96/96 [00:15<00:00,  6.25it/s]\n",
      "Clipping input data to the valid range for imshow with RGB data ([0..1] for floats or [0..255] for integers).\n"
     ]
    },
    {
     "name": "stdout",
     "output_type": "stream",
     "text": [
      "[2/2]:GAN loss_d: 1.113, loss_g: 1.178\n"
     ]
    },
    {
     "data": {
      "image/png": "[encoded data removed]",
      "text/plain": [
       "<Figure size 640x480 with 1 Axes>"
      ]
     },
     "metadata": {},
     "output_type": "display_data"
    },
    {
     "name": "stdout",
     "output_type": "stream",
     "text": [
      "-- >> Start of training phase << --\n"
     ]
    },
    {
     "ename": "AttributeError",
     "evalue": "'AvalancheDataset' object has no attribute 'dataset'",
     "output_type": "error",
     "traceback": [
      "\u001b[1;31m---------------------------------------------------------------------------\u001b[0m",
      "\u001b[1;31mAttributeError\u001b[0m                            Traceback (most recent call last)",
      "\u001b[1;32m~\\AppData\\Local\\Temp\\ipykernel_6180\\1571983954.py\u001b[0m in \u001b[0;36m<module>\u001b[1;34m\u001b[0m\n\u001b[0;32m     45\u001b[0m     \u001b[1;31m# probably have to create an experience for the new dataset!?!? (I hate avalanche)\u001b[0m\u001b[1;33m\u001b[0m\u001b[1;33m\u001b[0m\u001b[1;33m\u001b[0m\u001b[0m\n\u001b[0;32m     46\u001b[0m     \u001b[0mavalanche_train_dataset\u001b[0m \u001b[1;33m=\u001b[0m \u001b[0mAvalancheDataset\u001b[0m\u001b[1;33m(\u001b[0m\u001b[0mcombined_data\u001b[0m\u001b[1;33m)\u001b[0m\u001b[1;33m\u001b[0m\u001b[1;33m\u001b[0m\u001b[0m\n\u001b[1;32m---> 47\u001b[1;33m     \u001b[0mcl_strategy_scholar\u001b[0m\u001b[1;33m.\u001b[0m\u001b[0mtrain\u001b[0m\u001b[1;33m(\u001b[0m\u001b[0mavalanche_train_dataset\u001b[0m\u001b[1;33m,\u001b[0m \u001b[0mverbose\u001b[0m\u001b[1;33m=\u001b[0m\u001b[1;36m0\u001b[0m\u001b[1;33m)\u001b[0m\u001b[1;33m\u001b[0m\u001b[1;33m\u001b[0m\u001b[0m\n\u001b[0m\u001b[0;32m     48\u001b[0m     \u001b[0mscholar_evaluation\u001b[0m \u001b[1;33m=\u001b[0m \u001b[0mcl_strategy_scholar\u001b[0m\u001b[1;33m.\u001b[0m\u001b[0meval\u001b[0m\u001b[1;33m(\u001b[0m\u001b[0mBM\u001b[0m\u001b[1;33m.\u001b[0m\u001b[0mtest_stream\u001b[0m\u001b[1;33m)\u001b[0m\u001b[1;33m\u001b[0m\u001b[1;33m\u001b[0m\u001b[0m\n",
      "\u001b[1;32mc:\\Users\\mathi\\Anaconda3\\envs\\DL2\\lib\\site-packages\\avalanche\\training\\templates\\base_sgd.py\u001b[0m in \u001b[0;36mtrain\u001b[1;34m(self, experiences, eval_streams, **kwargs)\u001b[0m\n\u001b[0;32m    128\u001b[0m                                                     ExpSequence]]] = None,\n\u001b[0;32m    129\u001b[0m               **kwargs):\n\u001b[1;32m--> 130\u001b[1;33m         \u001b[0msuper\u001b[0m\u001b[1;33m(\u001b[0m\u001b[1;33m)\u001b[0m\u001b[1;33m.\u001b[0m\u001b[0mtrain\u001b[0m\u001b[1;33m(\u001b[0m\u001b[0mexperiences\u001b[0m\u001b[1;33m,\u001b[0m \u001b[0meval_streams\u001b[0m\u001b[1;33m,\u001b[0m \u001b[1;33m**\u001b[0m\u001b[0mkwargs\u001b[0m\u001b[1;33m)\u001b[0m\u001b[1;33m\u001b[0m\u001b[1;33m\u001b[0m\u001b[0m\n\u001b[0m\u001b[0;32m    131\u001b[0m         \u001b[1;32mreturn\u001b[0m \u001b[0mself\u001b[0m\u001b[1;33m.\u001b[0m\u001b[0mevaluator\u001b[0m\u001b[1;33m.\u001b[0m\u001b[0mget_last_metrics\u001b[0m\u001b[1;33m(\u001b[0m\u001b[1;33m)\u001b[0m\u001b[1;33m\u001b[0m\u001b[1;33m\u001b[0m\u001b[0m\n\u001b[0;32m    132\u001b[0m \u001b[1;33m\u001b[0m\u001b[0m\n",
      "\u001b[1;32mc:\\Users\\mathi\\Anaconda3\\envs\\DL2\\lib\\site-packages\\avalanche\\training\\templates\\base.py\u001b[0m in \u001b[0;36mtrain\u001b[1;34m(self, experiences, eval_streams, **kwargs)\u001b[0m\n\u001b[0;32m    104\u001b[0m \u001b[1;33m\u001b[0m\u001b[0m\n\u001b[0;32m    105\u001b[0m         \u001b[1;32mfor\u001b[0m \u001b[0mself\u001b[0m\u001b[1;33m.\u001b[0m\u001b[0mexperience\u001b[0m \u001b[1;32min\u001b[0m \u001b[0mexperiences\u001b[0m\u001b[1;33m:\u001b[0m\u001b[1;33m\u001b[0m\u001b[1;33m\u001b[0m\u001b[0m\n\u001b[1;32m--> 106\u001b[1;33m             \u001b[0mself\u001b[0m\u001b[1;33m.\u001b[0m\u001b[0m_before_training_exp\u001b[0m\u001b[1;33m(\u001b[0m\u001b[1;33m**\u001b[0m\u001b[0mkwargs\u001b[0m\u001b[1;33m)\u001b[0m\u001b[1;33m\u001b[0m\u001b[1;33m\u001b[0m\u001b[0m\n\u001b[0m\u001b[0;32m    107\u001b[0m             \u001b[0mself\u001b[0m\u001b[1;33m.\u001b[0m\u001b[0m_train_exp\u001b[0m\u001b[1;33m(\u001b[0m\u001b[0mself\u001b[0m\u001b[1;33m.\u001b[0m\u001b[0mexperience\u001b[0m\u001b[1;33m,\u001b[0m \u001b[0meval_streams\u001b[0m\u001b[1;33m,\u001b[0m \u001b[1;33m**\u001b[0m\u001b[0mkwargs\u001b[0m\u001b[1;33m)\u001b[0m\u001b[1;33m\u001b[0m\u001b[1;33m\u001b[0m\u001b[0m\n\u001b[0;32m    108\u001b[0m             \u001b[0mself\u001b[0m\u001b[1;33m.\u001b[0m\u001b[0m_after_training_exp\u001b[0m\u001b[1;33m(\u001b[0m\u001b[1;33m**\u001b[0m\u001b[0mkwargs\u001b[0m\u001b[1;33m)\u001b[0m\u001b[1;33m\u001b[0m\u001b[1;33m\u001b[0m\u001b[0m\n",
      "\u001b[1;32mc:\\Users\\mathi\\Anaconda3\\envs\\DL2\\lib\\site-packages\\avalanche\\training\\templates\\supervised.py\u001b[0m in \u001b[0;36m_before_training_exp\u001b[1;34m(self, **kwargs)\u001b[0m\n\u001b[0;32m    154\u001b[0m         \u001b[1;31m# Data Adaptation (e.g. add new samples/data augmentation)\u001b[0m\u001b[1;33m\u001b[0m\u001b[1;33m\u001b[0m\u001b[1;33m\u001b[0m\u001b[0m\n\u001b[0;32m    155\u001b[0m         \u001b[0mself\u001b[0m\u001b[1;33m.\u001b[0m\u001b[0m_before_train_dataset_adaptation\u001b[0m\u001b[1;33m(\u001b[0m\u001b[1;33m**\u001b[0m\u001b[0mkwargs\u001b[0m\u001b[1;33m)\u001b[0m\u001b[1;33m\u001b[0m\u001b[1;33m\u001b[0m\u001b[0m\n\u001b[1;32m--> 156\u001b[1;33m         \u001b[0mself\u001b[0m\u001b[1;33m.\u001b[0m\u001b[0mtrain_dataset_adaptation\u001b[0m\u001b[1;33m(\u001b[0m\u001b[1;33m**\u001b[0m\u001b[0mkwargs\u001b[0m\u001b[1;33m)\u001b[0m\u001b[1;33m\u001b[0m\u001b[1;33m\u001b[0m\u001b[0m\n\u001b[0m\u001b[0;32m    157\u001b[0m         \u001b[0mself\u001b[0m\u001b[1;33m.\u001b[0m\u001b[0m_after_train_dataset_adaptation\u001b[0m\u001b[1;33m(\u001b[0m\u001b[1;33m**\u001b[0m\u001b[0mkwargs\u001b[0m\u001b[1;33m)\u001b[0m\u001b[1;33m\u001b[0m\u001b[1;33m\u001b[0m\u001b[0m\n\u001b[0;32m    158\u001b[0m         \u001b[0msuper\u001b[0m\u001b[1;33m(\u001b[0m\u001b[1;33m)\u001b[0m\u001b[1;33m.\u001b[0m\u001b[0m_before_training_exp\u001b[0m\u001b[1;33m(\u001b[0m\u001b[1;33m**\u001b[0m\u001b[0mkwargs\u001b[0m\u001b[1;33m)\u001b[0m\u001b[1;33m\u001b[0m\u001b[1;33m\u001b[0m\u001b[0m\n",
      "\u001b[1;32mc:\\Users\\mathi\\Anaconda3\\envs\\DL2\\lib\\site-packages\\avalanche\\training\\templates\\supervised.py\u001b[0m in \u001b[0;36mtrain_dataset_adaptation\u001b[1;34m(self, **kwargs)\u001b[0m\n\u001b[0;32m    180\u001b[0m     \u001b[1;32mdef\u001b[0m \u001b[0mtrain_dataset_adaptation\u001b[0m\u001b[1;33m(\u001b[0m\u001b[0mself\u001b[0m\u001b[1;33m,\u001b[0m \u001b[1;33m**\u001b[0m\u001b[0mkwargs\u001b[0m\u001b[1;33m)\u001b[0m\u001b[1;33m:\u001b[0m\u001b[1;33m\u001b[0m\u001b[1;33m\u001b[0m\u001b[0m\n\u001b[0;32m    181\u001b[0m         \u001b[1;34m\"\"\"Initialize `self.adapted_dataset`.\"\"\"\u001b[0m\u001b[1;33m\u001b[0m\u001b[1;33m\u001b[0m\u001b[0m\n\u001b[1;32m--> 182\u001b[1;33m         \u001b[0mself\u001b[0m\u001b[1;33m.\u001b[0m\u001b[0madapted_dataset\u001b[0m \u001b[1;33m=\u001b[0m \u001b[0mself\u001b[0m\u001b[1;33m.\u001b[0m\u001b[0mexperience\u001b[0m\u001b[1;33m.\u001b[0m\u001b[0mdataset\u001b[0m\u001b[1;33m\u001b[0m\u001b[1;33m\u001b[0m\u001b[0m\n\u001b[0m\u001b[0;32m    183\u001b[0m         \u001b[0mself\u001b[0m\u001b[1;33m.\u001b[0m\u001b[0madapted_dataset\u001b[0m \u001b[1;33m=\u001b[0m \u001b[0mself\u001b[0m\u001b[1;33m.\u001b[0m\u001b[0madapted_dataset\u001b[0m\u001b[1;33m.\u001b[0m\u001b[0mtrain\u001b[0m\u001b[1;33m(\u001b[0m\u001b[1;33m)\u001b[0m\u001b[1;33m\u001b[0m\u001b[1;33m\u001b[0m\u001b[0m\n\u001b[0;32m    184\u001b[0m \u001b[1;33m\u001b[0m\u001b[0m\n",
      "\u001b[1;31mAttributeError\u001b[0m: 'AvalancheDataset' object has no attribute 'dataset'"
     ]
    }
   ],
   "source": [
    "from torch.utils.data import DataLoader\n",
    "from avalanche.benchmarks.utils import AvalancheDataset\n",
    "from avalanche.benchmarks.utils import AvalancheConcatDataset\n",
    "from tqdm import tqdm\n",
    "train_hist = {}\n",
    "train_hist['D_losses'] = []\n",
    "train_hist['G_losses'] = []\n",
    "for experience in BM.train_stream:\n",
    "    print('training experience', experience.current_experience)\n",
    "    print('training classes', experience.classes_in_this_experience)\n",
    "    ############################################################################################################\n",
    "    # Dataset manipulation\n",
    "    ############################################################################################################\n",
    "    train_loader = DataLoader(experience.dataset, batch_size=batch_size, shuffle=True)\n",
    "    combined_data = experience.dataset\n",
    "    if experience.current_experience != 0:\n",
    "        G.eval()\n",
    "        D.eval()\n",
    "        generated_images = torch.zeros((len(experience), 28*28))\n",
    "        generated_labels = torch.zeros((len(experience)))\n",
    "        for i in range(len(experience.dataset)):\n",
    "            fixed_z_ = torch.randn((5 * 5, 100))    # fixed noise\n",
    "            test_images = G(fixed_z_)\n",
    "            test_images = test_images.view(test_images.size(0), 1, 28, 28)\n",
    "            test_images = test_images.data\n",
    "            generated_images[i] = test_images[0].view(28*28)\n",
    "            generated_labels[i] = experience.current_experience\n",
    "        generated_dataset = AvalancheDataset(generated_images, generated_labels)\n",
    "        combined_data = AvalancheConcatDataset([combined_data, generated_dataset])\n",
    "        train_loader = DataLoader(combined_data, batch_size=batch_size, shuffle=True)\n",
    "\n",
    "    ############################################################################################################\n",
    "    # GAN training\n",
    "    ############################################################################################################\n",
    "    G, D, D_losses, G_losses = train_GAN(G, D, train_loader, G_optimizer, D_optimizer, train_epoch = 2)\n",
    "    generate_images(G, 25)\n",
    "    train_hist['D_losses'].append(torch.mean(torch.FloatTensor(D_losses)))\n",
    "    train_hist['G_losses'].append(torch.mean(torch.FloatTensor(G_losses)))\n",
    "\n",
    "    ############################################################################################################\n",
    "    # CL training\n",
    "    ############################################################################################################\n",
    "    #train cl model\n",
    "    #TODO FIX COMBINED DATA\n",
    "    # probably have to create an experience for the new dataset!?!? (I hate avalanche)\n",
    "    avalanche_train_dataset = AvalancheDataset(combined_data)\n",
    "    cl_strategy_scholar.train(avalanche_train_dataset, verbose=0)\n",
    "    scholar_evaluation = cl_strategy_scholar.eval(BM.test_stream)\n"
   ]
  },
  {
   "cell_type": "markdown",
   "metadata": {},
   "source": [
    "## plots"
   ]
  },
  {
   "cell_type": "code",
   "execution_count": 70,
   "metadata": {},
   "outputs": [
    {
     "data": {
      "image/png": "[encoded data removed]",
      "text/plain": [
       "<Figure size 640x480 with 1 Axes>"
      ]
     },
     "metadata": {},
     "output_type": "display_data"
    }
   ],
   "source": [
    "#TODO: use naive and scholar evaluation to plot results\n",
    "from helper_func import get_accuracies\n",
    "naive_evaluations = np.load('evaluations/naive_evaluations.npy', allow_pickle=True)\n",
    "#scholar_evaluations = np.load('evaluations/scholar_evaluations.npy', allow_pickle=True)\n",
    "\n",
    "naive_accuracies = get_accuracies(naive_evaluations)\n",
    "#cl_accuracies = get_accuracies(scholar_evaluation)\n",
    "\n",
    "plt.plot(naive_accuracies)\n",
    "#plt.plot(cl_accuracies)\n",
    "\n",
    "plt.xlabel('Task')\n",
    "\n",
    "plt.ylim(0, 1.1)\n",
    "plt.show()"
   ]
  }
 ],
 "metadata": {
  "kernelspec": {
   "display_name": "Python 3.7.13 ('DL2')",
   "language": "python",
   "name": "python3"
  },
  "language_info": {
   "codemirror_mode": {
    "name": "ipython",
    "version": 3
   },
   "file_extension": ".py",
   "mimetype": "text/x-python",
   "name": "python",
   "nbconvert_exporter": "python",
   "pygments_lexer": "ipython3",
   "version": "3.7.13"
  },
  "orig_nbformat": 4,
  "vscode": {
   "interpreter": {
    "hash": "4baa516f8e0b375803eea76c457b4bf97bb771c396b3a29908f0ad5250be2f81"
   }
  }
 },
 "nbformat": 4,
 "nbformat_minor": 2
}
