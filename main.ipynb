{
 "cells": [
  {
   "cell_type": "code",
   "execution_count": 16,
   "metadata": {},
   "outputs": [],
   "source": [
    "# implement https://arxiv.org/pdf/1705.08690.pdf on avalanche framework on permuted MNIST\n",
    "# https://aahaanmaini.medium.com/mimicking-human-continual-learning-in-a-neural-network-c15e1ae11d70\n",
    "#continual learning\n",
    "from avalanche.benchmarks.classic import PermutedMNIST, SplitMNIST\n",
    "from avalanche.models import SimpleMLP\n",
    "\n",
    "\n",
    "# CL Benchmark Creation\n",
    "test_BM = PermutedMNIST(n_experiences=5, seed=12345)\n",
    "train_BM = SplitMNIST(n_experiences=5)"
   ]
  },
  {
   "cell_type": "code",
   "execution_count": 12,
   "metadata": {},
   "outputs": [],
   "source": [
    "from torch import nn\n",
    "from torch.nn import Module\n",
    "\n",
    "#Naive approach\n",
    "model_naive = SimpleMLP(num_classes=10, hidden_size = 400, hidden_layers=2)\n",
    "\n",
    "#Continual Learning approach\n",
    "model_cl_scholar = SimpleMLP(num_classes=10, hidden_size = 400, hidden_layers=2)\n",
    "\n",
    "#generative_adversarial_network for continual learning\n",
    "\n",
    "class Generator(Module):\n",
    "    def __init__(self):\n",
    "        super(Generator, self).__init__()\n",
    "        self.main = module.Sequential(\n",
    "            Module.Linear(100, 256),\n",
    "            Module.LeakyReLU(0.2, inplace=True),\n",
    "            Module.Linear(256, 256),\n",
    "            Module.BatchNorm1d(256),\n",
    "            Module.LeakyReLU(0.2, inplace=True),\n",
    "            Module.Linear(256, 784),\n",
    "            Module.Tanh()\n",
    "        )\n",
    "\n",
    "    def forward(self, input):\n",
    "        return self.main(input)\n"
   ]
  },
  {
   "cell_type": "code",
   "execution_count": 13,
   "metadata": {},
   "outputs": [],
   "source": [
    "from torch.optim import SGD\n",
    "from torch.nn import CrossEntropyLoss\n",
    "from avalanche.training.supervised import Naive\n",
    "from avalanche.training.plugins import EvaluationPlugin\n",
    "from avalanche.evaluation.metrics import accuracy_metrics\n",
    "\n",
    "optimizer = SGD(model_naive.parameters(), lr=0.001, momentum=0.9)\n",
    "criterion = CrossEntropyLoss()\n",
    "\n",
    "\n",
    "# Continual learning strategy\n",
    "cl_strategy_naive = Naive(\n",
    "    model_naive, optimizer, criterion, train_mb_size=32, train_epochs=2, \n",
    "    eval_mb_size=32)"
   ]
  },
  {
   "cell_type": "code",
   "execution_count": 17,
   "metadata": {},
   "outputs": [
    {
     "name": "stdout",
     "output_type": "stream",
     "text": [
      "Start of task  0\n",
      "Classes in this task: [4, 6]\n",
      "Task 0\n",
      "This task contains 11760 training examples\n",
      "This task contains 10000 test examples\n",
      "Start of task  0\n",
      "Classes in this task: [1, 3]\n",
      "Task 0\n",
      "This task contains 12873 training examples\n",
      "This task contains 10000 test examples\n",
      "Start of task  0\n",
      "Classes in this task: [8, 2]\n",
      "Task 0\n",
      "This task contains 11809 training examples\n",
      "This task contains 10000 test examples\n",
      "Start of task  0\n",
      "Classes in this task: [5, 7]\n",
      "Task 0\n",
      "This task contains 11686 training examples\n",
      "This task contains 10000 test examples\n",
      "Start of task  0\n",
      "Classes in this task: [0, 9]\n",
      "Task 0\n",
      "This task contains 11872 training examples\n",
      "This task contains 10000 test examples\n"
     ]
    }
   ],
   "source": [
    "#train naive model on train stream\n",
    "#train GAN on 50% train stream data and 50% generated data\n",
    "#train CL on 50% GAN generated data and 50% train stream data\n",
    "\n",
    "results = []\n",
    "# iterating over the train stream\n",
    "for experience in train_BM.train_stream:\n",
    "    print(\"Start of task \", experience.task_label)\n",
    "    print('Classes in this task:', experience.classes_in_this_experience)\n",
    "\n",
    "    # The current Pytorch training set can be easily recovered through the \n",
    "    # experience\n",
    "    current_training_set = experience.dataset\n",
    "    current_test_set = test_BM.test_stream[experience.current_experience].dataset\n",
    "    \n",
    "    #train naive model on train stream\n",
    "    cl_strategy_naive.train(current_training_set)\n",
    "\n",
    "    #test naive model on test stream\n",
    "    results.append(cl_strategy_naive.eval(current_test_set)\n"
   ]
  },
  {
   "cell_type": "code",
   "execution_count": null,
   "metadata": {},
   "outputs": [],
   "source": [
    "print(\"Naive approach results: \", results_naive)"
   ]
  }
 ],
 "metadata": {
  "kernelspec": {
   "display_name": "Python 3.7.13 ('DL2')",
   "language": "python",
   "name": "python3"
  },
  "language_info": {
   "codemirror_mode": {
    "name": "ipython",
    "version": 3
   },
   "file_extension": ".py",
   "mimetype": "text/x-python",
   "name": "python",
   "nbconvert_exporter": "python",
   "pygments_lexer": "ipython3",
   "version": "3.7.13"
  },
  "orig_nbformat": 4,
  "vscode": {
   "interpreter": {
    "hash": "4baa516f8e0b375803eea76c457b4bf97bb771c396b3a29908f0ad5250be2f81"
   }
  }
 },
 "nbformat": 4,
 "nbformat_minor": 2
}
