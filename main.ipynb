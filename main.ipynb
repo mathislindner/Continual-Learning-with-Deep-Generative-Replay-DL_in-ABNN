{
 "cells": [
  {
   "cell_type": "code",
   "execution_count": 1,
   "metadata": {},
   "outputs": [],
   "source": [
    "# implement https://arxiv.org/pdf/1705.08690.pdf on avalanche framework on permuted MNIST\n",
    "# https://aahaanmaini.medium.com/mimicking-human-continual-learning-in-a-neural-network-c15e1ae11d70\n",
    "#continual learning"
   ]
  },
  {
   "cell_type": "markdown",
   "metadata": {},
   "source": [
    "## create naive and deepgen models"
   ]
  },
  {
   "cell_type": "code",
   "execution_count": 2,
   "metadata": {},
   "outputs": [
    {
     "name": "stderr",
     "output_type": "stream",
     "text": [
      "c:\\Users\\mathi\\Anaconda3\\envs\\DL2\\lib\\site-packages\\tqdm\\auto.py:22: TqdmWarning: IProgress not found. Please update jupyter and ipywidgets. See https://ipywidgets.readthedocs.io/en/stable/user_install.html\n",
      "  from .autonotebook import tqdm as notebook_tqdm\n",
      "c:\\Users\\mathi\\Anaconda3\\envs\\DL2\\lib\\site-packages\\torchvision\\io\\image.py:13: UserWarning: Failed to load image Python extension: \n",
      "  warn(f\"Failed to load image Python extension: {e}\")\n"
     ]
    }
   ],
   "source": [
    "from torch import nn\n",
    "from avalanche.models import SimpleMLP\n",
    "\n",
    "#Naive approach\n",
    "model_naive = SimpleMLP(num_classes=10, hidden_size = 400, hidden_layers=2)\n",
    "\n",
    "#Continual Learning approach\n",
    "model_cl_scholar = SimpleMLP(num_classes=10, hidden_size = 400, hidden_layers=2)\n"
   ]
  },
  {
   "cell_type": "markdown",
   "metadata": {},
   "source": [
    "## create GAN"
   ]
  },
  {
   "cell_type": "code",
   "execution_count": 31,
   "metadata": {},
   "outputs": [
    {
     "name": "stderr",
     "output_type": "stream",
     "text": [
      "c:\\Users\\mathi\\Anaconda3\\envs\\DL2\\lib\\site-packages\\ipykernel_launcher.py:54: UserWarning: volatile was removed and now has no effect. Use `with torch.no_grad():` instead.\n"
     ]
    }
   ],
   "source": [
    "#https://github.com/znxlwm/pytorch-MNIST-CelebA-GAN-DCGAN/blob/master/pytorch_MNIST_GAN.py\n",
    "import matplotlib.pyplot as plt\n",
    "import itertools\n",
    "import pickle\n",
    "#import imageio\n",
    "import torch\n",
    "import torch.nn as nn\n",
    "import torch.nn.functional as F\n",
    "import torch.optim as optim\n",
    "from torchvision import datasets, transforms\n",
    "from torch.autograd import Variable\n",
    "\n",
    "# G(z)\n",
    "class generator(nn.Module):\n",
    "    # initializers\n",
    "    def __init__(self, input_size=32, n_class = 10):\n",
    "        super(generator, self).__init__()\n",
    "        self.fc1 = nn.Linear(input_size, 256)\n",
    "        self.fc2 = nn.Linear(self.fc1.out_features, 512)\n",
    "        self.fc3 = nn.Linear(self.fc2.out_features, 1024)\n",
    "        self.fc4 = nn.Linear(self.fc3.out_features, n_class)\n",
    "\n",
    "    # forward method\n",
    "    def forward(self, input):\n",
    "        x = F.leaky_relu(self.fc1(input), 0.2)\n",
    "        x = F.leaky_relu(self.fc2(x), 0.2)\n",
    "        x = F.leaky_relu(self.fc3(x), 0.2)\n",
    "        x = F.tanh(self.fc4(x))\n",
    "\n",
    "        return x\n",
    "\n",
    "class discriminator(nn.Module):\n",
    "    # initializers\n",
    "    def __init__(self, input_size=32, n_class=10):\n",
    "        super(discriminator, self).__init__()\n",
    "        self.fc1 = nn.Linear(input_size, 1024)\n",
    "        self.fc2 = nn.Linear(self.fc1.out_features, 512)\n",
    "        self.fc3 = nn.Linear(self.fc2.out_features, 256)\n",
    "        self.fc4 = nn.Linear(self.fc3.out_features, n_class)\n",
    "\n",
    "    # forward method\n",
    "    def forward(self, input):\n",
    "        x = F.leaky_relu(self.fc1(input), 0.2)\n",
    "        x = F.dropout(x, 0.3)\n",
    "        x = F.leaky_relu(self.fc2(x), 0.2)\n",
    "        x = F.dropout(x, 0.3)\n",
    "        x = F.leaky_relu(self.fc3(x), 0.2)\n",
    "        x = F.dropout(x, 0.3)\n",
    "        x = F.sigmoid(self.fc4(x))\n",
    "\n",
    "        return x\n",
    "\n",
    "fixed_z_ = torch.randn((5 * 5, 100))    # fixed noise\n",
    "fixed_z_ = Variable(fixed_z_, volatile=True)\n",
    "\n",
    "# training parameters\n",
    "batch_size = 128\n",
    "lr = 0.0002\n",
    "train_epoch = 100\n",
    "\n",
    "# data_loader\n",
    "transform = transforms.Compose([\n",
    "        transforms.ToTensor(),\n",
    "        transforms.Normalize(mean=(0.5, 0.5, 0.5), std=(0.5, 0.5, 0.5))\n",
    "])\n",
    "# network\n",
    "G = generator(input_size=100, n_class=28*28)\n",
    "D = discriminator(input_size=28*28, n_class=1)\n",
    "\n",
    "# Binary Cross Entropy loss\n",
    "BCE_loss = nn.BCELoss()\n",
    "\n",
    "# Adam optimizer\n",
    "G_optimizer = optim.Adam(G.parameters(), lr=lr)\n",
    "D_optimizer = optim.Adam(D.parameters(), lr=lr)\n"
   ]
  },
  {
   "cell_type": "code",
   "execution_count": 4,
   "metadata": {},
   "outputs": [],
   "source": [
    "from avalanche.benchmarks.classic import SplitMNIST\n",
    "from avalanche.models import SimpleMLP\n",
    "\n",
    "transform = transforms.Compose([\n",
    "        transforms.ToTensor(),\n",
    "        transforms.Normalize(mean=(0.5, 0.5, 0.5), std=(0.5, 0.5, 0.5))\n",
    "])\n",
    "# create transform to grayscale\n",
    "transform = transforms.Compose([\n",
    "        transforms.Grayscale(num_output_channels=1),\n",
    "        transforms.ToTensor(),\n",
    "])\n",
    "# CL Benchmark Creation\n",
    "BM = SplitMNIST(n_experiences=5, seed=12345, train_transform=transform, eval_transform=transform)\n"
   ]
  },
  {
   "cell_type": "code",
   "execution_count": 67,
   "metadata": {},
   "outputs": [
    {
     "name": "stdout",
     "output_type": "stream",
     "text": [
      "training experience 0\n"
     ]
    },
    {
     "name": "stderr",
     "output_type": "stream",
     "text": [
      "100%|██████████| 96/96 [00:14<00:00,  6.67it/s]\n"
     ]
    },
    {
     "name": "stdout",
     "output_type": "stream",
     "text": [
      "[1/100]: loss_d: 1.206, loss_g: 1.087\n"
     ]
    },
    {
     "name": "stderr",
     "output_type": "stream",
     "text": [
      "100%|██████████| 96/96 [00:14<00:00,  6.60it/s]\n"
     ]
    },
    {
     "name": "stdout",
     "output_type": "stream",
     "text": [
      "[2/100]: loss_d: 0.979, loss_g: 1.386\n"
     ]
    },
    {
     "name": "stderr",
     "output_type": "stream",
     "text": [
      "100%|██████████| 96/96 [00:14<00:00,  6.51it/s]\n"
     ]
    },
    {
     "name": "stdout",
     "output_type": "stream",
     "text": [
      "[3/100]: loss_d: 1.086, loss_g: 1.270\n"
     ]
    },
    {
     "name": "stderr",
     "output_type": "stream",
     "text": [
      "100%|██████████| 96/96 [00:14<00:00,  6.62it/s]\n"
     ]
    },
    {
     "name": "stdout",
     "output_type": "stream",
     "text": [
      "[4/100]: loss_d: 1.126, loss_g: 1.225\n"
     ]
    },
    {
     "name": "stderr",
     "output_type": "stream",
     "text": [
      "100%|██████████| 96/96 [00:15<00:00,  6.20it/s]\n"
     ]
    },
    {
     "name": "stdout",
     "output_type": "stream",
     "text": [
      "[5/100]: loss_d: 0.725, loss_g: 1.481\n"
     ]
    },
    {
     "name": "stderr",
     "output_type": "stream",
     "text": [
      "100%|██████████| 96/96 [00:14<00:00,  6.70it/s]\n"
     ]
    },
    {
     "name": "stdout",
     "output_type": "stream",
     "text": [
      "[6/100]: loss_d: 1.028, loss_g: 1.819\n"
     ]
    },
    {
     "name": "stderr",
     "output_type": "stream",
     "text": [
      "100%|██████████| 96/96 [00:14<00:00,  6.67it/s]\n"
     ]
    },
    {
     "name": "stdout",
     "output_type": "stream",
     "text": [
      "[7/100]: loss_d: 0.883, loss_g: 1.877\n"
     ]
    },
    {
     "name": "stderr",
     "output_type": "stream",
     "text": [
      "100%|██████████| 96/96 [00:15<00:00,  6.12it/s]\n"
     ]
    },
    {
     "name": "stdout",
     "output_type": "stream",
     "text": [
      "[8/100]: loss_d: 1.453, loss_g: 1.645\n"
     ]
    },
    {
     "name": "stderr",
     "output_type": "stream",
     "text": [
      "100%|██████████| 96/96 [00:15<00:00,  6.17it/s]\n"
     ]
    },
    {
     "name": "stdout",
     "output_type": "stream",
     "text": [
      "[9/100]: loss_d: 0.927, loss_g: 1.556\n"
     ]
    },
    {
     "name": "stderr",
     "output_type": "stream",
     "text": [
      "100%|██████████| 96/96 [00:14<00:00,  6.69it/s]\n"
     ]
    },
    {
     "name": "stdout",
     "output_type": "stream",
     "text": [
      "[10/100]: loss_d: 0.665, loss_g: 1.908\n"
     ]
    },
    {
     "name": "stderr",
     "output_type": "stream",
     "text": [
      "100%|██████████| 96/96 [00:14<00:00,  6.60it/s]\n"
     ]
    },
    {
     "name": "stdout",
     "output_type": "stream",
     "text": [
      "[11/100]: loss_d: 1.305, loss_g: 1.815\n"
     ]
    },
    {
     "name": "stderr",
     "output_type": "stream",
     "text": [
      "100%|██████████| 96/96 [00:15<00:00,  6.23it/s]\n"
     ]
    },
    {
     "name": "stdout",
     "output_type": "stream",
     "text": [
      "[12/100]: loss_d: 1.051, loss_g: 1.271\n"
     ]
    },
    {
     "name": "stderr",
     "output_type": "stream",
     "text": [
      "100%|██████████| 96/96 [00:15<00:00,  6.19it/s]\n"
     ]
    },
    {
     "name": "stdout",
     "output_type": "stream",
     "text": [
      "[13/100]: loss_d: 0.779, loss_g: 1.609\n"
     ]
    },
    {
     "name": "stderr",
     "output_type": "stream",
     "text": [
      "100%|██████████| 96/96 [00:16<00:00,  5.78it/s]\n"
     ]
    },
    {
     "name": "stdout",
     "output_type": "stream",
     "text": [
      "[14/100]: loss_d: 1.016, loss_g: 1.853\n"
     ]
    },
    {
     "name": "stderr",
     "output_type": "stream",
     "text": [
      "100%|██████████| 96/96 [00:14<00:00,  6.81it/s]\n"
     ]
    },
    {
     "name": "stdout",
     "output_type": "stream",
     "text": [
      "[15/100]: loss_d: 0.992, loss_g: 1.373\n"
     ]
    },
    {
     "name": "stderr",
     "output_type": "stream",
     "text": [
      "100%|██████████| 96/96 [00:14<00:00,  6.85it/s]\n"
     ]
    },
    {
     "name": "stdout",
     "output_type": "stream",
     "text": [
      "[16/100]: loss_d: 0.857, loss_g: 1.878\n"
     ]
    },
    {
     "name": "stderr",
     "output_type": "stream",
     "text": [
      "100%|██████████| 96/96 [00:14<00:00,  6.62it/s]\n"
     ]
    },
    {
     "name": "stdout",
     "output_type": "stream",
     "text": [
      "[17/100]: loss_d: 1.099, loss_g: 1.359\n"
     ]
    },
    {
     "name": "stderr",
     "output_type": "stream",
     "text": [
      "100%|██████████| 96/96 [00:13<00:00,  7.06it/s]\n"
     ]
    },
    {
     "name": "stdout",
     "output_type": "stream",
     "text": [
      "[18/100]: loss_d: 1.078, loss_g: 1.411\n"
     ]
    },
    {
     "name": "stderr",
     "output_type": "stream",
     "text": [
      "100%|██████████| 96/96 [00:13<00:00,  7.00it/s]\n"
     ]
    },
    {
     "name": "stdout",
     "output_type": "stream",
     "text": [
      "[19/100]: loss_d: 0.957, loss_g: 1.322\n"
     ]
    },
    {
     "name": "stderr",
     "output_type": "stream",
     "text": [
      "100%|██████████| 96/96 [00:17<00:00,  5.47it/s]\n"
     ]
    },
    {
     "name": "stdout",
     "output_type": "stream",
     "text": [
      "[20/100]: loss_d: 0.758, loss_g: 1.779\n"
     ]
    },
    {
     "name": "stderr",
     "output_type": "stream",
     "text": [
      "100%|██████████| 96/96 [00:17<00:00,  5.65it/s]\n"
     ]
    },
    {
     "name": "stdout",
     "output_type": "stream",
     "text": [
      "[21/100]: loss_d: 1.107, loss_g: 1.634\n"
     ]
    },
    {
     "name": "stderr",
     "output_type": "stream",
     "text": [
      "100%|██████████| 96/96 [00:13<00:00,  7.28it/s]\n"
     ]
    },
    {
     "name": "stdout",
     "output_type": "stream",
     "text": [
      "[22/100]: loss_d: 0.887, loss_g: 1.425\n"
     ]
    },
    {
     "name": "stderr",
     "output_type": "stream",
     "text": [
      "100%|██████████| 96/96 [00:18<00:00,  5.22it/s]\n"
     ]
    },
    {
     "name": "stdout",
     "output_type": "stream",
     "text": [
      "[23/100]: loss_d: 0.875, loss_g: 1.512\n"
     ]
    },
    {
     "name": "stderr",
     "output_type": "stream",
     "text": [
      "100%|██████████| 96/96 [00:17<00:00,  5.55it/s]\n"
     ]
    },
    {
     "name": "stdout",
     "output_type": "stream",
     "text": [
      "[24/100]: loss_d: 0.896, loss_g: 1.614\n"
     ]
    },
    {
     "name": "stderr",
     "output_type": "stream",
     "text": [
      "100%|██████████| 96/96 [00:16<00:00,  5.84it/s]\n"
     ]
    },
    {
     "name": "stdout",
     "output_type": "stream",
     "text": [
      "[25/100]: loss_d: 0.928, loss_g: 1.826\n"
     ]
    },
    {
     "name": "stderr",
     "output_type": "stream",
     "text": [
      "100%|██████████| 96/96 [00:18<00:00,  5.27it/s]\n"
     ]
    },
    {
     "name": "stdout",
     "output_type": "stream",
     "text": [
      "[26/100]: loss_d: 0.808, loss_g: 1.506\n"
     ]
    },
    {
     "name": "stderr",
     "output_type": "stream",
     "text": [
      "100%|██████████| 96/96 [00:17<00:00,  5.49it/s]\n"
     ]
    },
    {
     "name": "stdout",
     "output_type": "stream",
     "text": [
      "[27/100]: loss_d: 0.881, loss_g: 1.752\n"
     ]
    },
    {
     "name": "stderr",
     "output_type": "stream",
     "text": [
      " 38%|███▊      | 36/96 [00:06<00:08,  6.72it/s]"
     ]
    }
   ],
   "source": [
    "from torch.utils.data import DataLoader\n",
    "from tqdm import tqdm\n",
    "train_hist = {}\n",
    "train_hist['D_losses'] = []\n",
    "train_hist['G_losses'] = []\n",
    "for experience in BM.train_stream:\n",
    "    print('training experience', experience.current_experience)\n",
    "    train_loader = DataLoader(experience.dataset, batch_size=batch_size, shuffle=True)\n",
    "    for epoch in range(train_epoch):\n",
    "        D_losses = []\n",
    "        G_losses = []\n",
    "        for x_, _, _ in tqdm(train_loader):\n",
    "            D.zero_grad()\n",
    "            # convert x_ to tensor\n",
    "            #x_ = torch.tensor(x_).view(-1, 28 * 28)\n",
    "            x_ = x_.view(-1, 28 * 28)\n",
    "            mini_batch = x_.size()[0]\n",
    "            y_real_ = torch.ones(mini_batch,1)\n",
    "            y_fake_ = torch.zeros(mini_batch,1)\n",
    "\n",
    "            x_, y_real_, y_fake_ = Variable(x_), Variable(y_real_), Variable(y_fake_)\n",
    "\n",
    "            D_result = D(x_)\n",
    "            D_real_loss = BCE_loss(D_result, y_real_)\n",
    "            D_real_score = D_result\n",
    "\n",
    "            z_ = torch.randn(mini_batch, 100)\n",
    "            z_ = Variable(z_)\n",
    "            G_result = G(z_)\n",
    "\n",
    "            D_result = D(G_result)\n",
    "            D_fake_loss = BCE_loss(D_result, y_fake_)\n",
    "            D_fake_score = D_result\n",
    "\n",
    "            D_train_loss = D_real_loss + D_fake_loss\n",
    "\n",
    "            D_train_loss.backward()\n",
    "            D_optimizer.step()\n",
    "\n",
    "            D_losses.append(D_train_loss.data)\n",
    "\n",
    "            # train generator G\n",
    "            G.zero_grad()\n",
    "\n",
    "            z_ = torch.randn(mini_batch, 100)\n",
    "            y_ = torch.ones(mini_batch, 1)\n",
    "\n",
    "            z_, y_ = Variable(z_), Variable(y_)\n",
    "            G_result = G(z_)\n",
    "            D_result = D(G_result)\n",
    "            G_train_loss = BCE_loss(D_result, y_)\n",
    "            G_train_loss.backward()\n",
    "            G_optimizer.step()\n",
    "\n",
    "            G_losses.append(G_train_loss.data)\n",
    "\n",
    "        print('[%d/%d]: loss_d: %.3f, loss_g: %.3f' % (\n",
    "            (epoch + 1), train_epoch, torch.mean(torch.FloatTensor(D_losses)), torch.mean(torch.FloatTensor(G_losses))))\n",
    "    train_hist['D_losses'].append(torch.mean(torch.FloatTensor(D_losses)))\n",
    "    train_hist['G_losses'].append(torch.mean(torch.FloatTensor(G_losses)))\n",
    "\n"
   ]
  },
  {
   "cell_type": "code",
   "execution_count": 16,
   "metadata": {},
   "outputs": [],
   "source": [
    "from torch.optim import SGD\n",
    "from torch.nn import CrossEntropyLoss\n",
    "from avalanche.training.supervised import Naive\n",
    "from avalanche.training.plugins import EvaluationPlugin\n",
    "from avalanche.evaluation.metrics import accuracy_metrics\n",
    "\n",
    "optimizer = SGD(model_naive.parameters(), lr=0.001, momentum=0.9)\n",
    "criterion = CrossEntropyLoss()\n",
    "\n",
    "\n",
    "# Continual learning strategy\n",
    "cl_strategy_naive = Naive(\n",
    "    model_naive, optimizer, criterion, train_mb_size=32, train_epochs=2, \n",
    "    eval_mb_size=32)\n",
    "\n",
    "# model_cl_scholar strategy\n",
    "cl_strategy_scholar = Naive(\n",
    "    model_cl_scholar, optimizer, criterion, train_mb_size=32, train_epochs=2,\n",
    "    eval_mb_size=32)"
   ]
  },
  {
   "cell_type": "code",
   "execution_count": 36,
   "metadata": {},
   "outputs": [
    {
     "name": "stdout",
     "output_type": "stream",
     "text": [
      "Tasks learned so far: [0, 7]\n",
      "-- >> Start of training phase << --\n",
      "662it [01:52,  5.86it/s]                         \n",
      "Epoch 0 ended.\n",
      "\tLoss_Epoch/train_phase/train_stream/Task000 = 0.0616\n",
      "\tTop1_Acc_Epoch/train_phase/train_stream/Task000 = 0.9829\n",
      "100%|██████████| 381/381 [00:08<00:00, 42.95it/s]\n",
      "Epoch 1 ended.\n",
      "\tLoss_Epoch/train_phase/train_stream/Task000 = 0.0149\n",
      "\tTop1_Acc_Epoch/train_phase/train_stream/Task000 = 0.9951\n",
      "-- >> End of training phase << --\n",
      "-- >> Start of eval phase << --\n",
      "-- Starting eval on experience 0 (Task 0) from test stream --\n",
      "100%|██████████| 63/63 [00:01<00:00, 52.28it/s]\n",
      "> Eval on experience 0 (Task 0) from test stream ended.\n",
      "\tLoss_Exp/eval_phase/test_stream/Task000/Exp000 = 0.0136\n",
      "\tTop1_Acc_Exp/eval_phase/test_stream/Task000/Exp000 = 0.9960\n",
      "-- Starting eval on experience 1 (Task 0) from test stream --\n",
      "100%|██████████| 66/66 [00:01<00:00, 44.13it/s]\n",
      "> Eval on experience 1 (Task 0) from test stream ended.\n",
      "\tLoss_Exp/eval_phase/test_stream/Task000/Exp001 = 1.0057\n",
      "\tTop1_Acc_Exp/eval_phase/test_stream/Task000/Exp001 = 0.6775\n",
      "-- Starting eval on experience 2 (Task 0) from test stream --\n",
      "100%|██████████| 63/63 [00:01<00:00, 49.60it/s]\n",
      "> Eval on experience 2 (Task 0) from test stream ended.\n",
      "\tLoss_Exp/eval_phase/test_stream/Task000/Exp002 = 6.0889\n",
      "\tTop1_Acc_Exp/eval_phase/test_stream/Task000/Exp002 = 0.0015\n",
      "-- Starting eval on experience 3 (Task 0) from test stream --\n",
      "100%|██████████| 62/62 [00:01<00:00, 49.30it/s]\n",
      "> Eval on experience 3 (Task 0) from test stream ended.\n",
      "\tLoss_Exp/eval_phase/test_stream/Task000/Exp003 = 8.4194\n",
      "\tTop1_Acc_Exp/eval_phase/test_stream/Task000/Exp003 = 0.0000\n",
      "-- Starting eval on experience 4 (Task 0) from test stream --\n",
      "100%|██████████| 60/60 [00:01<00:00, 41.43it/s]\n",
      "> Eval on experience 4 (Task 0) from test stream ended.\n",
      "\tLoss_Exp/eval_phase/test_stream/Task000/Exp004 = 6.5008\n",
      "\tTop1_Acc_Exp/eval_phase/test_stream/Task000/Exp004 = 0.0037\n",
      "-- >> End of eval phase << --\n",
      "\tLoss_Stream/eval_phase/test_stream/Task000 = 4.3456\n",
      "\tTop1_Acc_Stream/eval_phase/test_stream/Task000 = 0.3428\n",
      "Tasks learned so far: [0, 1, 6, 7]\n",
      "-- >> Start of training phase << --\n",
      "100%|██████████| 396/396 [00:11<00:00, 34.29it/s]\n",
      "Epoch 0 ended.\n",
      "\tLoss_Epoch/train_phase/train_stream/Task000 = 0.0513\n",
      "\tTop1_Acc_Epoch/train_phase/train_stream/Task000 = 0.9862\n",
      "100%|██████████| 396/396 [00:11<00:00, 35.80it/s]\n",
      "Epoch 1 ended.\n",
      "\tLoss_Epoch/train_phase/train_stream/Task000 = 0.0127\n",
      "\tTop1_Acc_Epoch/train_phase/train_stream/Task000 = 0.9972\n",
      "-- >> End of training phase << --\n",
      "-- >> Start of eval phase << --\n",
      "-- Starting eval on experience 0 (Task 0) from test stream --\n",
      "100%|██████████| 63/63 [00:01<00:00, 44.63it/s]\n",
      "> Eval on experience 0 (Task 0) from test stream ended.\n",
      "\tLoss_Exp/eval_phase/test_stream/Task000/Exp000 = 0.9864\n",
      "\tTop1_Acc_Exp/eval_phase/test_stream/Task000/Exp000 = 0.7460\n",
      "-- Starting eval on experience 1 (Task 0) from test stream --\n",
      "100%|██████████| 66/66 [00:01<00:00, 41.00it/s]\n",
      "> Eval on experience 1 (Task 0) from test stream ended.\n",
      "\tLoss_Exp/eval_phase/test_stream/Task000/Exp001 = 0.0202\n",
      "\tTop1_Acc_Exp/eval_phase/test_stream/Task000/Exp001 = 0.9952\n",
      "-- Starting eval on experience 2 (Task 0) from test stream --\n",
      "100%|██████████| 63/63 [00:01<00:00, 48.29it/s]\n",
      "> Eval on experience 2 (Task 0) from test stream ended.\n",
      "\tLoss_Exp/eval_phase/test_stream/Task000/Exp002 = 4.2734\n",
      "\tTop1_Acc_Exp/eval_phase/test_stream/Task000/Exp002 = 0.0109\n",
      "-- Starting eval on experience 3 (Task 0) from test stream --\n",
      "100%|██████████| 62/62 [00:01<00:00, 41.00it/s]\n",
      "> Eval on experience 3 (Task 0) from test stream ended.\n",
      "\tLoss_Exp/eval_phase/test_stream/Task000/Exp003 = 5.3009\n",
      "\tTop1_Acc_Exp/eval_phase/test_stream/Task000/Exp003 = 0.0000\n",
      "-- Starting eval on experience 4 (Task 0) from test stream --\n",
      "100%|██████████| 60/60 [00:01<00:00, 43.56it/s]\n",
      "> Eval on experience 4 (Task 0) from test stream ended.\n",
      "\tLoss_Exp/eval_phase/test_stream/Task000/Exp004 = 4.2074\n",
      "\tTop1_Acc_Exp/eval_phase/test_stream/Task000/Exp004 = 0.0168\n",
      "-- >> End of eval phase << --\n",
      "\tLoss_Stream/eval_phase/test_stream/Task000 = 2.9144\n",
      "\tTop1_Acc_Stream/eval_phase/test_stream/Task000 = 0.3635\n",
      "Tasks learned so far: [0, 1, 2, 4, 6, 7]\n",
      "-- >> Start of training phase << --\n",
      "100%|██████████| 369/369 [00:10<00:00, 36.47it/s]\n",
      "Epoch 0 ended.\n",
      "\tLoss_Epoch/train_phase/train_stream/Task000 = 0.2368\n",
      "\tTop1_Acc_Epoch/train_phase/train_stream/Task000 = 0.9336\n",
      "100%|██████████| 369/369 [00:10<00:00, 36.79it/s]\n",
      "Epoch 1 ended.\n",
      "\tLoss_Epoch/train_phase/train_stream/Task000 = 0.0487\n",
      "\tTop1_Acc_Epoch/train_phase/train_stream/Task000 = 0.9857\n",
      "-- >> End of training phase << --\n",
      "-- >> Start of eval phase << --\n",
      "-- Starting eval on experience 0 (Task 0) from test stream --\n",
      "100%|██████████| 63/63 [00:02<00:00, 29.97it/s]\n",
      "> Eval on experience 0 (Task 0) from test stream ended.\n",
      "\tLoss_Exp/eval_phase/test_stream/Task000/Exp000 = 3.1370\n",
      "\tTop1_Acc_Exp/eval_phase/test_stream/Task000/Exp000 = 0.2440\n",
      "-- Starting eval on experience 1 (Task 0) from test stream --\n",
      "100%|██████████| 66/66 [00:01<00:00, 44.34it/s]\n",
      "> Eval on experience 1 (Task 0) from test stream ended.\n",
      "\tLoss_Exp/eval_phase/test_stream/Task000/Exp001 = 4.8099\n",
      "\tTop1_Acc_Exp/eval_phase/test_stream/Task000/Exp001 = 0.0010\n",
      "-- Starting eval on experience 2 (Task 0) from test stream --\n",
      "100%|██████████| 63/63 [00:01<00:00, 43.93it/s]\n",
      "> Eval on experience 2 (Task 0) from test stream ended.\n",
      "\tLoss_Exp/eval_phase/test_stream/Task000/Exp002 = 0.0418\n",
      "\tTop1_Acc_Exp/eval_phase/test_stream/Task000/Exp002 = 0.9881\n",
      "-- Starting eval on experience 3 (Task 0) from test stream --\n",
      "100%|██████████| 62/62 [00:01<00:00, 44.96it/s]\n",
      "> Eval on experience 3 (Task 0) from test stream ended.\n",
      "\tLoss_Exp/eval_phase/test_stream/Task000/Exp003 = 5.7610\n",
      "\tTop1_Acc_Exp/eval_phase/test_stream/Task000/Exp003 = 0.0000\n",
      "-- Starting eval on experience 4 (Task 0) from test stream --\n",
      "100%|██████████| 60/60 [00:01<00:00, 41.89it/s]\n",
      "> Eval on experience 4 (Task 0) from test stream ended.\n",
      "\tLoss_Exp/eval_phase/test_stream/Task000/Exp004 = 5.2052\n",
      "\tTop1_Acc_Exp/eval_phase/test_stream/Task000/Exp004 = 0.0026\n",
      "-- >> End of eval phase << --\n",
      "\tLoss_Stream/eval_phase/test_stream/Task000 = 3.7775\n",
      "\tTop1_Acc_Stream/eval_phase/test_stream/Task000 = 0.2487\n",
      "Tasks learned so far: [0, 1, 2, 4, 6, 7, 8, 9]\n",
      "-- >> Start of training phase << --\n",
      "100%|██████████| 369/369 [00:13<00:00, 28.33it/s]\n",
      "Epoch 0 ended.\n",
      "\tLoss_Epoch/train_phase/train_stream/Task000 = 0.3183\n",
      "\tTop1_Acc_Epoch/train_phase/train_stream/Task000 = 0.9160\n",
      "100%|██████████| 369/369 [00:12<00:00, 30.20it/s]\n",
      "Epoch 1 ended.\n",
      "\tLoss_Epoch/train_phase/train_stream/Task000 = 0.0610\n",
      "\tTop1_Acc_Epoch/train_phase/train_stream/Task000 = 0.9797\n",
      "-- >> End of training phase << --\n",
      "-- >> Start of eval phase << --\n",
      "-- Starting eval on experience 0 (Task 0) from test stream --\n",
      "100%|██████████| 63/63 [00:01<00:00, 37.83it/s]\n",
      "> Eval on experience 0 (Task 0) from test stream ended.\n",
      "\tLoss_Exp/eval_phase/test_stream/Task000/Exp000 = 5.6135\n",
      "\tTop1_Acc_Exp/eval_phase/test_stream/Task000/Exp000 = 0.0867\n",
      "-- Starting eval on experience 1 (Task 0) from test stream --\n",
      "100%|██████████| 66/66 [00:01<00:00, 33.38it/s]\n",
      "> Eval on experience 1 (Task 0) from test stream ended.\n",
      "\tLoss_Exp/eval_phase/test_stream/Task000/Exp001 = 6.7566\n",
      "\tTop1_Acc_Exp/eval_phase/test_stream/Task000/Exp001 = 0.0000\n",
      "-- Starting eval on experience 2 (Task 0) from test stream --\n",
      "100%|██████████| 63/63 [00:01<00:00, 42.11it/s]\n",
      "> Eval on experience 2 (Task 0) from test stream ended.\n",
      "\tLoss_Exp/eval_phase/test_stream/Task000/Exp002 = 7.9094\n",
      "\tTop1_Acc_Exp/eval_phase/test_stream/Task000/Exp002 = 0.0000\n",
      "-- Starting eval on experience 3 (Task 0) from test stream --\n",
      "100%|██████████| 62/62 [00:01<00:00, 35.04it/s]\n",
      "> Eval on experience 3 (Task 0) from test stream ended.\n",
      "\tLoss_Exp/eval_phase/test_stream/Task000/Exp003 = 0.0447\n",
      "\tTop1_Acc_Exp/eval_phase/test_stream/Task000/Exp003 = 0.9834\n",
      "-- Starting eval on experience 4 (Task 0) from test stream --\n",
      "100%|██████████| 60/60 [00:01<00:00, 38.69it/s]\n",
      "> Eval on experience 4 (Task 0) from test stream ended.\n",
      "\tLoss_Exp/eval_phase/test_stream/Task000/Exp004 = 5.5189\n",
      "\tTop1_Acc_Exp/eval_phase/test_stream/Task000/Exp004 = 0.0016\n",
      "-- >> End of eval phase << --\n",
      "\tLoss_Stream/eval_phase/test_stream/Task000 = 5.1929\n",
      "\tTop1_Acc_Stream/eval_phase/test_stream/Task000 = 0.2127\n",
      "Tasks learned so far: [0, 1, 2, 3, 4, 5, 6, 7, 8, 9]\n",
      "-- >> Start of training phase << --\n",
      "100%|██████████| 361/361 [00:10<00:00, 35.92it/s]\n",
      "Epoch 0 ended.\n",
      "\tLoss_Epoch/train_phase/train_stream/Task000 = 0.2918\n",
      "\tTop1_Acc_Epoch/train_phase/train_stream/Task000 = 0.9219\n",
      "100%|██████████| 361/361 [00:09<00:00, 37.51it/s]\n",
      "Epoch 1 ended.\n",
      "\tLoss_Epoch/train_phase/train_stream/Task000 = 0.0898\n",
      "\tTop1_Acc_Epoch/train_phase/train_stream/Task000 = 0.9697\n",
      "-- >> End of training phase << --\n",
      "-- >> Start of eval phase << --\n",
      "-- Starting eval on experience 0 (Task 0) from test stream --\n",
      "100%|██████████| 63/63 [00:01<00:00, 47.02it/s]\n",
      "> Eval on experience 0 (Task 0) from test stream ended.\n",
      "\tLoss_Exp/eval_phase/test_stream/Task000/Exp000 = 3.3899\n",
      "\tTop1_Acc_Exp/eval_phase/test_stream/Task000/Exp000 = 0.1071\n",
      "-- Starting eval on experience 1 (Task 0) from test stream --\n",
      "100%|██████████| 66/66 [00:01<00:00, 45.64it/s]\n",
      "> Eval on experience 1 (Task 0) from test stream ended.\n",
      "\tLoss_Exp/eval_phase/test_stream/Task000/Exp001 = 4.7895\n",
      "\tTop1_Acc_Exp/eval_phase/test_stream/Task000/Exp001 = 0.0000\n",
      "-- Starting eval on experience 2 (Task 0) from test stream --\n",
      "100%|██████████| 63/63 [00:01<00:00, 41.85it/s]\n",
      "> Eval on experience 2 (Task 0) from test stream ended.\n",
      "\tLoss_Exp/eval_phase/test_stream/Task000/Exp002 = 6.4905\n",
      "\tTop1_Acc_Exp/eval_phase/test_stream/Task000/Exp002 = 0.0000\n",
      "-- Starting eval on experience 3 (Task 0) from test stream --\n",
      "100%|██████████| 62/62 [00:01<00:00, 49.05it/s]\n",
      "> Eval on experience 3 (Task 0) from test stream ended.\n",
      "\tLoss_Exp/eval_phase/test_stream/Task000/Exp003 = 5.4066\n",
      "\tTop1_Acc_Exp/eval_phase/test_stream/Task000/Exp003 = 0.0570\n",
      "-- Starting eval on experience 4 (Task 0) from test stream --\n",
      "100%|██████████| 60/60 [00:01<00:00, 44.92it/s]\n",
      "> Eval on experience 4 (Task 0) from test stream ended.\n",
      "\tLoss_Exp/eval_phase/test_stream/Task000/Exp004 = 0.0565\n",
      "\tTop1_Acc_Exp/eval_phase/test_stream/Task000/Exp004 = 0.9753\n",
      "-- >> End of eval phase << --\n",
      "\tLoss_Stream/eval_phase/test_stream/Task000 = 4.0732\n",
      "\tTop1_Acc_Stream/eval_phase/test_stream/Task000 = 0.2183\n"
     ]
    }
   ],
   "source": [
    "#train naive model on train stream\n",
    "#train GAN on 50% train stream data and 50% generated data\n",
    "#train CL on 50% GAN generated data and 50% train stream data\n",
    "\n",
    "results = []\n",
    "tasks_learned_so_far = []\n",
    "\n",
    "# iterating over the train stream\n",
    "for experience in BM.train_stream:\n",
    "    print('Tasks learned so far:', experience.classes_seen_so_far)    \n",
    "\n",
    "    #train naive model on train stream\n",
    "    cl_strategy_naive.train(experience, verbose=0)\n",
    "    #test naive model on test stream\n",
    "    naive_evaluation = cl_strategy_naive.eval(BM.test_stream)\n",
    "\n",
    "    #train GAN on 50% train stream data and 50% generated data\n",
    "    #train CL on 50% GAN generated data and 50% train stream data\n",
    "    if experience.task_label == 0:\n",
    "        #train gan only first task\n",
    "        gan.fit(experience, verbose=0)\n",
    "        combined_data = experience\n",
    "    else:\n",
    "        new_data = gan.generate()\n",
    "        combined_data = np.concatenate((experience, new_data), axis=0)\n",
    "        #sample 50% of combined data\n",
    "        combined_data = np.random.choice(combined_data, size=combined_data.shape[0]//2, replace=False)\n",
    "        \n",
    "    cl_strategy_scholar.train(combined_data, verbose=0)"
   ]
  }
 ],
 "metadata": {
  "kernelspec": {
   "display_name": "Python 3.7.13 ('DL2')",
   "language": "python",
   "name": "python3"
  },
  "language_info": {
   "codemirror_mode": {
    "name": "ipython",
    "version": 3
   },
   "file_extension": ".py",
   "mimetype": "text/x-python",
   "name": "python",
   "nbconvert_exporter": "python",
   "pygments_lexer": "ipython3",
   "version": "3.7.13"
  },
  "orig_nbformat": 4,
  "vscode": {
   "interpreter": {
    "hash": "4baa516f8e0b375803eea76c457b4bf97bb771c396b3a29908f0ad5250be2f81"
   }
  }
 },
 "nbformat": 4,
 "nbformat_minor": 2
}
