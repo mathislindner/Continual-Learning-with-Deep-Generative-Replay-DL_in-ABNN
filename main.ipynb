{
 "cells": [
  {
   "cell_type": "code",
   "execution_count": 6,
   "metadata": {},
   "outputs": [],
   "source": [
    "# implement https://arxiv.org/pdf/1705.08690.pdf on avalanche framework on permuted MNIST\n",
    "# https://aahaanmaini.medium.com/mimicking-human-continual-learning-in-a-neural-network-c15e1ae11d70\n",
    "#continual learning"
   ]
  },
  {
   "cell_type": "markdown",
   "metadata": {},
   "source": [
    "## create GAN"
   ]
  },
  {
   "cell_type": "code",
   "execution_count": 28,
   "metadata": {},
   "outputs": [
    {
     "name": "stdout",
     "output_type": "stream",
     "text": [
      "The autoreload extension is already loaded. To reload it, use:\n",
      "  %reload_ext autoreload\n"
     ]
    }
   ],
   "source": [
    "%load_ext autoreload\n",
    "%autoreload 2\n",
    "from helper_func import *"
   ]
  },
  {
   "cell_type": "code",
   "execution_count": 29,
   "metadata": {},
   "outputs": [
    {
     "name": "stderr",
     "output_type": "stream",
     "text": [
      "c:\\Users\\mathi\\Anaconda3\\envs\\DL2\\lib\\site-packages\\ipykernel_launcher.py:53: UserWarning: volatile was removed and now has no effect. Use `with torch.no_grad():` instead.\n"
     ]
    }
   ],
   "source": [
    "#https://github.com/znxlwm/pytorch-MNIST-CelebA-GAN-DCGAN/blob/master/pytorch_MNIST_GAN.py\n",
    "import matplotlib.pyplot as plt\n",
    "from torch import nn\n",
    "#import imageio\n",
    "import torch\n",
    "import torch.nn as nn\n",
    "import torch.nn.functional as F\n",
    "import torch.optim as optim\n",
    "from torchvision import datasets, transforms\n",
    "from torch.autograd import Variable\n",
    "\n",
    "# G(z)\n",
    "class generator(nn.Module):\n",
    "    # initializers\n",
    "    def __init__(self, input_size=32, n_class = 10):\n",
    "        super(generator, self).__init__()\n",
    "        self.fc1 = nn.Linear(input_size, 256)\n",
    "        self.fc2 = nn.Linear(self.fc1.out_features, 512)\n",
    "        self.fc3 = nn.Linear(self.fc2.out_features, 1024)\n",
    "        self.fc4 = nn.Linear(self.fc3.out_features, n_class)\n",
    "\n",
    "    # forward method\n",
    "    def forward(self, input):\n",
    "        x = F.leaky_relu(self.fc1(input), 0.2)\n",
    "        x = F.leaky_relu(self.fc2(x), 0.2)\n",
    "        x = F.leaky_relu(self.fc3(x), 0.2)\n",
    "        x = F.tanh(self.fc4(x))\n",
    "\n",
    "        return x\n",
    "\n",
    "class discriminator(nn.Module):\n",
    "    # initializers\n",
    "    def __init__(self, input_size=32, n_class=10):\n",
    "        super(discriminator, self).__init__()\n",
    "        self.fc1 = nn.Linear(input_size, 1024)\n",
    "        self.fc2 = nn.Linear(self.fc1.out_features, 512)\n",
    "        self.fc3 = nn.Linear(self.fc2.out_features, 256)\n",
    "        self.fc4 = nn.Linear(self.fc3.out_features, n_class)\n",
    "\n",
    "    # forward method\n",
    "    def forward(self, input):\n",
    "        x = F.leaky_relu(self.fc1(input), 0.2)\n",
    "        x = F.dropout(x, 0.3)\n",
    "        x = F.leaky_relu(self.fc2(x), 0.2)\n",
    "        x = F.dropout(x, 0.3)\n",
    "        x = F.leaky_relu(self.fc3(x), 0.2)\n",
    "        x = F.dropout(x, 0.3)\n",
    "        x = F.sigmoid(self.fc4(x))\n",
    "\n",
    "        return x\n",
    "\n",
    "fixed_z_ = torch.randn((5 * 5, 100))    # fixed noise\n",
    "fixed_z_ = Variable(fixed_z_, volatile=True)\n",
    "\n",
    "# training parameters\n",
    "batch_size = 128\n",
    "lr = 0.0002\n",
    "\n",
    "# data_loader\n",
    "transform = transforms.Compose([\n",
    "        transforms.ToTensor(),\n",
    "        transforms.Normalize(mean=(0.5, 0.5, 0.5), std=(0.5, 0.5, 0.5))\n",
    "])\n",
    "# network\n",
    "G = generator(input_size=100, n_class=28*28)\n",
    "D = discriminator(input_size=28*28, n_class=1)\n",
    "\n",
    "# Binary Cross Entropy loss\n",
    "BCE_loss = nn.BCELoss()\n",
    "\n",
    "# Adam optimizer\n",
    "G_optimizer = optim.Adam(G.parameters(), lr=lr)\n",
    "D_optimizer = optim.Adam(D.parameters(), lr=lr)\n"
   ]
  },
  {
   "cell_type": "markdown",
   "metadata": {},
   "source": [
    "## Neural Network Architecture"
   ]
  },
  {
   "cell_type": "code",
   "execution_count": 30,
   "metadata": {},
   "outputs": [],
   "source": [
    "from torch import nn\n",
    "import torch\n",
    "import torch.nn.functional as F\n",
    "from torch.optim import SGD\n",
    "from torch.nn import CrossEntropyLoss\n",
    "\n",
    "#MNIST neural network with 2 hidden layers of 400 neurons each\n",
    "class Net(nn.Module):\n",
    "    def __init__(self):\n",
    "        super(Net, self).__init__()\n",
    "        self.fc1 = nn.Linear(28*28, 400)\n",
    "        self.fc2 = nn.Linear(400, 400)\n",
    "        self.fc3 = nn.Linear(400, 10)\n",
    "\n",
    "    def forward(self, x):\n",
    "        x = x.view(-1, 28*28)\n",
    "        x = F.relu(self.fc1(x))\n",
    "        x = F.relu(self.fc2(x))\n",
    "        x = self.fc3(x)\n",
    "        return x\n",
    "\n",
    "model_naive = Net()\n",
    "model_cl = Net()\n",
    "\n",
    "optimizer = SGD(model_naive.parameters(), lr=0.01, momentum=0.9)\n",
    "criterion = CrossEntropyLoss()\n"
   ]
  },
  {
   "cell_type": "markdown",
   "metadata": {},
   "source": [
    "## naive"
   ]
  },
  {
   "cell_type": "code",
   "execution_count": 47,
   "metadata": {},
   "outputs": [
    {
     "name": "stdout",
     "output_type": "stream",
     "text": [
      "Train Epoch: 0 [0/12665 (0%)]\tLoss: 12.192914\n",
      "Train Epoch: 1 [0/12665 (0%)]\tLoss: 0.000472\n",
      "Train Epoch: 2 [0/12665 (0%)]\tLoss: 0.002475\n",
      "Train Epoch: 3 [0/12665 (0%)]\tLoss: 0.000285\n",
      "Train Epoch: 4 [0/12665 (0%)]\tLoss: 0.002615\n",
      "Test Accuracy of the model on the 0 test images: 99.858154296875 %\n",
      "Train Epoch: 0 [0/11791 (0%)]\tLoss: 18.705183\n",
      "Train Epoch: 1 [0/11791 (0%)]\tLoss: 0.078781\n",
      "Train Epoch: 2 [0/11791 (0%)]\tLoss: 0.111158\n",
      "Train Epoch: 3 [0/11791 (0%)]\tLoss: 0.059354\n",
      "Train Epoch: 4 [0/11791 (0%)]\tLoss: 0.153185\n",
      "Test Accuracy of the model on the 1 test images: 47.3453483581543 %\n",
      "Train Epoch: 0 [0/11339 (0%)]\tLoss: 12.494276\n",
      "Train Epoch: 1 [0/11339 (0%)]\tLoss: 0.117916\n",
      "Train Epoch: 2 [0/11339 (0%)]\tLoss: 0.039820\n",
      "Train Epoch: 3 [0/11339 (0%)]\tLoss: 0.017011\n",
      "Train Epoch: 4 [0/11339 (0%)]\tLoss: 0.080391\n",
      "Test Accuracy of the model on the 2 test images: 30.439891815185547 %\n",
      "Train Epoch: 0 [0/11809 (0%)]\tLoss: 13.731761\n",
      "Train Epoch: 1 [0/11809 (0%)]\tLoss: 0.082380\n",
      "Train Epoch: 2 [0/11809 (0%)]\tLoss: 0.049981\n",
      "Train Epoch: 3 [0/11809 (0%)]\tLoss: 0.030478\n",
      "Train Epoch: 4 [0/11809 (0%)]\tLoss: 0.010070\n",
      "Test Accuracy of the model on the 3 test images: 24.99372100830078 %\n",
      "Train Epoch: 0 [0/12396 (0%)]\tLoss: 11.434401\n",
      "Train Epoch: 1 [0/12396 (0%)]\tLoss: 0.024719\n",
      "Train Epoch: 2 [0/12396 (0%)]\tLoss: 0.072158\n",
      "Train Epoch: 3 [0/12396 (0%)]\tLoss: 0.057723\n",
      "Train Epoch: 4 [0/12396 (0%)]\tLoss: 0.079963\n",
      "Test Accuracy of the model on the 4 test images: 20.06999969482422 %\n"
     ]
    }
   ],
   "source": [
    "%reload_ext autoreload\n",
    "%autoreload 2\n",
    "\n",
    "MLP_transform = transforms.Compose([\n",
    "        transforms.ToTensor(),\n",
    "        transforms.Normalize(mean=(0.5,), std=(0.5,))\n",
    "])\n",
    "\n",
    "from helper_func import get_data_loaders\n",
    "#train naive\n",
    "nave_accuracies = []\n",
    "for experience in range(5):\n",
    "    train_loader, test_loader = get_data_loaders(experience, batch_size=batch_size, transform = MLP_transform)\n",
    "    for epoch in range(5):\n",
    "        for batch_idx, (data, target) in enumerate(train_loader):\n",
    "            data, target = Variable(data), Variable(target)\n",
    "            optimizer.zero_grad()\n",
    "            output = model_naive(data)\n",
    "            loss = criterion(output, target)\n",
    "            loss.backward()\n",
    "            optimizer.step()\n",
    "            if batch_idx % 100 == 0:\n",
    "                print('Train Epoch: {} [{}/{} ({:.0f}%)]\\tLoss: {:.6f}'.format(\n",
    "                    epoch, batch_idx * len(data), len(train_loader.dataset),\n",
    "                    100. * batch_idx / len(train_loader), loss.item()))\n",
    "    accuracy = test_model(model_naive, experience, test_loader)\n",
    "    nave_accuracies.append(accuracy)"
   ]
  },
  {
   "cell_type": "code",
   "execution_count": 86,
   "metadata": {},
   "outputs": [
    {
     "name": "stdout",
     "output_type": "stream",
     "text": [
      "torch.Size([1, 28, 28])\n"
     ]
    },
    {
     "ename": "AttributeError",
     "evalue": "'int' object has no attribute 'shape'",
     "output_type": "error",
     "traceback": [
      "\u001b[1;31m---------------------------------------------------------------------------\u001b[0m",
      "\u001b[1;31mAttributeError\u001b[0m                            Traceback (most recent call last)",
      "\u001b[1;32m~\\AppData\\Local\\Temp\\ipykernel_9940\\2152401270.py\u001b[0m in \u001b[0;36m<module>\u001b[1;34m\u001b[0m\n\u001b[0;32m      1\u001b[0m \u001b[1;32mfor\u001b[0m \u001b[0mx\u001b[0m\u001b[1;33m,\u001b[0m\u001b[0my\u001b[0m \u001b[1;32min\u001b[0m \u001b[0mnew_dataset\u001b[0m\u001b[1;33m:\u001b[0m\u001b[1;33m\u001b[0m\u001b[1;33m\u001b[0m\u001b[0m\n\u001b[0;32m      2\u001b[0m     \u001b[0mprint\u001b[0m\u001b[1;33m(\u001b[0m\u001b[0mx\u001b[0m\u001b[1;33m.\u001b[0m\u001b[0mshape\u001b[0m\u001b[1;33m)\u001b[0m\u001b[1;33m\u001b[0m\u001b[1;33m\u001b[0m\u001b[0m\n\u001b[1;32m----> 3\u001b[1;33m     \u001b[0mprint\u001b[0m\u001b[1;33m(\u001b[0m\u001b[0my\u001b[0m\u001b[1;33m.\u001b[0m\u001b[0mshape\u001b[0m\u001b[1;33m)\u001b[0m\u001b[1;33m\u001b[0m\u001b[1;33m\u001b[0m\u001b[0m\n\u001b[0m\u001b[0;32m      4\u001b[0m     \u001b[1;32mbreak\u001b[0m\u001b[1;33m\u001b[0m\u001b[1;33m\u001b[0m\u001b[0m\n",
      "\u001b[1;31mAttributeError\u001b[0m: 'int' object has no attribute 'shape'"
     ]
    }
   ],
   "source": [
    "for x,y in new_dataset:\n",
    "    print(x.shape)\n",
    "    print(y.shape)\n",
    "    break"
   ]
  },
  {
   "cell_type": "markdown",
   "metadata": {},
   "source": [
    "### scholar with GAN"
   ]
  },
  {
   "cell_type": "code",
   "execution_count": 90,
   "metadata": {},
   "outputs": [
    {
     "name": "stdout",
     "output_type": "stream",
     "text": [
      "[1/1]:GAN loss_d: 0.570, loss_g: 2.806\n",
      "Test Accuracy of the model on the 0 test images: 99.90543365478516 %\n",
      "Fake images shape: torch.Size([11904, 1, 28, 28])\n"
     ]
    },
    {
     "ename": "AttributeError",
     "evalue": "'TensorDataset' object has no attribute 'size'",
     "output_type": "error",
     "traceback": [
      "\u001b[1;31m---------------------------------------------------------------------------\u001b[0m",
      "\u001b[1;31mAttributeError\u001b[0m                            Traceback (most recent call last)",
      "\u001b[1;32m~\\AppData\\Local\\Temp\\ipykernel_9940\\343121443.py\u001b[0m in \u001b[0;36m<module>\u001b[1;34m\u001b[0m\n\u001b[0;32m     19\u001b[0m         \u001b[0mnew_dataset\u001b[0m \u001b[1;33m=\u001b[0m \u001b[0mgenerate_data\u001b[0m\u001b[1;33m(\u001b[0m\u001b[0mG\u001b[0m\u001b[1;33m,\u001b[0m \u001b[0mD\u001b[0m\u001b[1;33m,\u001b[0m \u001b[0mn_images\u001b[0m \u001b[1;33m=\u001b[0m \u001b[1;36m60000\u001b[0m\u001b[1;33m*\u001b[0m\u001b[1;36m2\u001b[0m\u001b[1;33m/\u001b[0m\u001b[1;36m10\u001b[0m\u001b[1;33m)\u001b[0m\u001b[1;33m\u001b[0m\u001b[1;33m\u001b[0m\u001b[0m\n\u001b[0;32m     20\u001b[0m         \u001b[1;31m#concatenate with old data\u001b[0m\u001b[1;33m\u001b[0m\u001b[1;33m\u001b[0m\u001b[1;33m\u001b[0m\u001b[0m\n\u001b[1;32m---> 21\u001b[1;33m         \u001b[0mprint\u001b[0m\u001b[1;33m(\u001b[0m\u001b[0mnew_dataset\u001b[0m\u001b[1;33m.\u001b[0m\u001b[0msize\u001b[0m\u001b[1;33m(\u001b[0m\u001b[1;33m)\u001b[0m\u001b[1;33m,\u001b[0m \u001b[0mtrain_loader\u001b[0m\u001b[1;33m.\u001b[0m\u001b[0mdataset\u001b[0m\u001b[1;33m.\u001b[0m\u001b[0msize\u001b[0m\u001b[1;33m(\u001b[0m\u001b[1;33m)\u001b[0m\u001b[1;33m)\u001b[0m\u001b[1;33m\u001b[0m\u001b[1;33m\u001b[0m\u001b[0m\n\u001b[0m\u001b[0;32m     22\u001b[0m         \u001b[0mnew_dataset\u001b[0m \u001b[1;33m=\u001b[0m \u001b[0mConcatDataset\u001b[0m\u001b[1;33m(\u001b[0m\u001b[1;33m[\u001b[0m\u001b[0mtrain_loader\u001b[0m\u001b[1;33m.\u001b[0m\u001b[0mdataset\u001b[0m\u001b[1;33m,\u001b[0m \u001b[0mnew_dataset\u001b[0m\u001b[1;33m]\u001b[0m\u001b[1;33m)\u001b[0m\u001b[1;33m\u001b[0m\u001b[1;33m\u001b[0m\u001b[0m\n\u001b[0;32m     23\u001b[0m \u001b[1;33m\u001b[0m\u001b[0m\n",
      "\u001b[1;31mAttributeError\u001b[0m: 'TensorDataset' object has no attribute 'size'"
     ]
    }
   ],
   "source": [
    "%reload_ext autoreload\n",
    "%autoreload 2\n",
    "from helper_func import *\n",
    "from torch.utils.data import ConcatDataset\n",
    "# data_loader\n",
    "GAN_transform = transforms.Compose([\n",
    "        transforms.ToTensor(),\n",
    "        transforms.Normalize(mean=(0.5, 0.5, 0.5), std=(0.5, 0.5, 0.5))\n",
    "])\n",
    "\n",
    "#train CL\n",
    "cl_accuracies = []\n",
    "for experience in range(5):\n",
    "    train_loader, test_loader = get_data_loaders(experience, batch_size=batch_size, transform = MLP_transform)\n",
    "\n",
    "    if experience != 0:\n",
    "        #create new data with GAN\n",
    "        # add transform\n",
    "        new_dataset = generate_data(G, D, n_images = 60000*2/10)\n",
    "        #concatenate with old data\n",
    "        new_dataset = ConcatDataset([train_loader.dataset, new_dataset])\n",
    "        \n",
    "        train_loader = torch.utils.data.DataLoader(new_dataset, batch_size=batch_size, shuffle=True)\n",
    "\n",
    "    G, D, D_losses, G_losses = train_GAN(G, D, train_loader, G_optimizer, D_optimizer, train_epoch = 1)\n",
    "    for epoch in range(0):\n",
    "        for batch_idx, (data, target) in enumerate(train_loader):\n",
    "            data, target = Variable(data), Variable(target)\n",
    "            optimizer.zero_grad()\n",
    "            output = model_naive(data)\n",
    "            loss = criterion(output, target)\n",
    "            loss.backward()\n",
    "            optimizer.step()\n",
    "            if batch_idx % 100 == 0:\n",
    "                print('Train Epoch: {} [{}/{} ({:.0f}%)]\\tLoss: {:.6f}'.format(\n",
    "                    epoch, batch_idx * len(data), len(train_loader.dataset),\n",
    "                    100. * batch_idx / len(train_loader), loss.item()))\n",
    "    accuracy = test_model(model_naive, experience, test_loader)\n",
    "    cl_accuracies.append(accuracy)\n"
   ]
  },
  {
   "cell_type": "markdown",
   "metadata": {},
   "source": [
    "## plots"
   ]
  },
  {
   "cell_type": "code",
   "execution_count": 70,
   "metadata": {},
   "outputs": [
    {
     "data": {
      "image/png": "[encoded data removed]",
      "text/plain": [
       "<Figure size 640x480 with 1 Axes>"
      ]
     },
     "metadata": {},
     "output_type": "display_data"
    }
   ],
   "source": [
    "#TODO: use naive and scholar evaluation to plot results\n",
    "\n",
    "plt.plot(nave_accuracies, label='naive')\n",
    "plt.plot(cl_accuracies, label='CL')\n",
    "\n",
    "plt.xlabel('Task')\n",
    "\n",
    "plt.ylim(0, 1.1)\n",
    "plt.show()"
   ]
  }
 ],
 "metadata": {
  "kernelspec": {
   "display_name": "Python 3.7.13 ('DL2')",
   "language": "python",
   "name": "python3"
  },
  "language_info": {
   "codemirror_mode": {
    "name": "ipython",
    "version": 3
   },
   "file_extension": ".py",
   "mimetype": "text/x-python",
   "name": "python",
   "nbconvert_exporter": "python",
   "pygments_lexer": "ipython3",
   "version": "3.7.13"
  },
  "orig_nbformat": 4,
  "vscode": {
   "interpreter": {
    "hash": "4baa516f8e0b375803eea76c457b4bf97bb771c396b3a29908f0ad5250be2f81"
   }
  }
 },
 "nbformat": 4,
 "nbformat_minor": 2
}
